{
 "cells": [
  {
   "cell_type": "code",
   "execution_count": 1,
   "id": "c02e08f0",
   "metadata": {},
   "outputs": [
    {
     "data": {
      "text/plain": [
       "'local-1638884076952'"
      ]
     },
     "execution_count": 1,
     "metadata": {},
     "output_type": "execute_result"
    }
   ],
   "source": [
    " sc.applicationId"
   ]
  },
  {
   "cell_type": "code",
   "execution_count": 2,
   "id": "178b4341",
   "metadata": {},
   "outputs": [],
   "source": [
    "from pyspark.sql.functions import isnan,isnull,when,count,col,countDistinct,explode,array,struct,lit,sum\n",
    "from pyspark.sql import functions as F\n",
    "from pyspark.sql import DataFrame\n",
    "from typing import Iterable \n",
    "import numpy as np\n",
    "import seaborn as sns\n",
    "import matplotlib.pyplot as plt\n",
    "import pandas as pd"
   ]
  },
  {
   "cell_type": "code",
   "execution_count": 3,
   "id": "91c0c9c1",
   "metadata": {},
   "outputs": [
    {
     "name": "stderr",
     "output_type": "stream",
     "text": [
      "                                                                                \r"
     ]
    }
   ],
   "source": [
    "# data = spark.read.format(\"csv\").option(\"header\",True).load(\"/home/huan/Downloads/train.csv\")\n",
    "data = sqlContext.read.format('com.databricks.spark.csv')\\\n",
    "       .option('header', 'true')\\\n",
    "       .option('delimiter', ',').load(\"/home/huan/Downloads/train.csv\")"
   ]
  },
  {
   "cell_type": "code",
   "execution_count": 4,
   "id": "3f17ed9c",
   "metadata": {},
   "outputs": [],
   "source": [
    "data = data.select([F.col(col).alias(col.replace(' ', '_')) for col in data.columns])"
   ]
  },
  {
   "cell_type": "code",
   "execution_count": 5,
   "id": "d1337749",
   "metadata": {},
   "outputs": [
    {
     "data": {
      "text/plain": [
       "103904"
      ]
     },
     "execution_count": 5,
     "metadata": {},
     "output_type": "execute_result"
    }
   ],
   "source": [
    "#So dong du lieuj\n",
    "data.count()"
   ]
  },
  {
   "cell_type": "code",
   "execution_count": null,
   "id": "653c09c6",
   "metadata": {},
   "outputs": [],
   "source": []
  },
  {
   "cell_type": "code",
   "execution_count": 6,
   "id": "8a47f69c",
   "metadata": {},
   "outputs": [
    {
     "name": "stderr",
     "output_type": "stream",
     "text": [
      "21/12/07 05:34:54 WARN CSVHeaderChecker: CSV header does not conform to the schema.\n",
      " Header: , id, Gender, Customer Type, Age, Type of Travel, Class, Flight Distance, Inflight wifi service, Departure/Arrival time convenient, Ease of Online booking, Gate location, Food and drink, Online boarding, Seat comfort, Inflight entertainment, On-board service, Leg room service, Baggage handling, Checkin service, Inflight service, Cleanliness, Departure Delay in Minutes, Arrival Delay in Minutes, satisfaction\n",
      " Schema: _c0, id, Gender, Customer Type, Age, Type of Travel, Class, Flight Distance, Inflight wifi service, Departure/Arrival time convenient, Ease of Online booking, Gate location, Food and drink, Online boarding, Seat comfort, Inflight entertainment, On-board service, Leg room service, Baggage handling, Checkin service, Inflight service, Cleanliness, Departure Delay in Minutes, Arrival Delay in Minutes, satisfaction\n",
      "Expected: _c0 but found: \n",
      "CSV file: file:///home/huan/Downloads/train.csv\n",
      "[Stage 3:>                                                          (0 + 3) / 3]\r"
     ]
    },
    {
     "name": "stdout",
     "output_type": "stream",
     "text": [
      "+---+---+------+-------------+---+--------------+-----+---------------+---------------------+---------------------------------+----------------------+-------------+--------------+---------------+------------+----------------------+----------------+----------------+----------------+---------------+----------------+-----------+--------------------------+------------------------+------------+\n",
      "|_c0| id|Gender|Customer_Type|Age|Type_of_Travel|Class|Flight_Distance|Inflight_wifi_service|Departure/Arrival_time_convenient|Ease_of_Online_booking|Gate_location|Food_and_drink|Online_boarding|Seat_comfort|Inflight_entertainment|On-board_service|Leg_room_service|Baggage_handling|Checkin_service|Inflight_service|Cleanliness|Departure_Delay_in_Minutes|Arrival_Delay_in_Minutes|satisfaction|\n",
      "+---+---+------+-------------+---+--------------+-----+---------------+---------------------+---------------------------------+----------------------+-------------+--------------+---------------+------------+----------------------+----------------+----------------+----------------+---------------+----------------+-----------+--------------------------+------------------------+------------+\n",
      "|  0|  0|     0|            0|  0|             0|    0|              0|                    0|                                0|                     0|            0|             0|              0|           0|                     0|               0|               0|               0|              0|               0|          0|                         0|                     310|           0|\n",
      "+---+---+------+-------------+---+--------------+-----+---------------+---------------------+---------------------------------+----------------------+-------------+--------------+---------------+------------+----------------------+----------------+----------------+----------------+---------------+----------------+-----------+--------------------------+------------------------+------------+\n",
      "\n"
     ]
    },
    {
     "name": "stderr",
     "output_type": "stream",
     "text": [
      "\r",
      "[Stage 3:=======================================>                   (2 + 1) / 3]\r",
      "\r",
      "                                                                                \r"
     ]
    }
   ],
   "source": [
    "data.select([count(when(isnan(c) | col(c).isNull(), c)).alias(c) for c in data.columns]).show()"
   ]
  },
  {
   "cell_type": "code",
   "execution_count": 7,
   "id": "3fcf002b",
   "metadata": {},
   "outputs": [
    {
     "name": "stderr",
     "output_type": "stream",
     "text": [
      "21/12/07 05:34:59 WARN CSVHeaderChecker: CSV header does not conform to the schema.\n",
      " Header: , id, Gender, Customer Type, Age, Type of Travel, Class, Flight Distance, Inflight wifi service, Departure/Arrival time convenient, Ease of Online booking, Gate location, Food and drink, Online boarding, Seat comfort, Inflight entertainment, On-board service, Leg room service, Baggage handling, Checkin service, Inflight service, Cleanliness, Departure Delay in Minutes, Arrival Delay in Minutes, satisfaction\n",
      " Schema: _c0, id, Gender, Customer Type, Age, Type of Travel, Class, Flight Distance, Inflight wifi service, Departure/Arrival time convenient, Ease of Online booking, Gate location, Food and drink, Online boarding, Seat comfort, Inflight entertainment, On-board service, Leg room service, Baggage handling, Checkin service, Inflight service, Cleanliness, Departure Delay in Minutes, Arrival Delay in Minutes, satisfaction\n",
      "Expected: _c0 but found: \n",
      "CSV file: file:///home/huan/Downloads/train.csv\n",
      "                                                                                \r"
     ]
    },
    {
     "data": {
      "text/html": [
       "<div>\n",
       "<style scoped>\n",
       "    .dataframe tbody tr th:only-of-type {\n",
       "        vertical-align: middle;\n",
       "    }\n",
       "\n",
       "    .dataframe tbody tr th {\n",
       "        vertical-align: top;\n",
       "    }\n",
       "\n",
       "    .dataframe thead th {\n",
       "        text-align: right;\n",
       "    }\n",
       "</style>\n",
       "<table border=\"1\" class=\"dataframe\">\n",
       "  <thead>\n",
       "    <tr style=\"text-align: right;\">\n",
       "      <th></th>\n",
       "      <th>_c0</th>\n",
       "      <th>id</th>\n",
       "      <th>Gender</th>\n",
       "      <th>Customer_Type</th>\n",
       "      <th>Age</th>\n",
       "      <th>Type_of_Travel</th>\n",
       "      <th>Class</th>\n",
       "      <th>Flight_Distance</th>\n",
       "      <th>Inflight_wifi_service</th>\n",
       "      <th>Departure/Arrival_time_convenient</th>\n",
       "      <th>...</th>\n",
       "      <th>Inflight_entertainment</th>\n",
       "      <th>On-board_service</th>\n",
       "      <th>Leg_room_service</th>\n",
       "      <th>Baggage_handling</th>\n",
       "      <th>Checkin_service</th>\n",
       "      <th>Inflight_service</th>\n",
       "      <th>Cleanliness</th>\n",
       "      <th>Departure_Delay_in_Minutes</th>\n",
       "      <th>Arrival_Delay_in_Minutes</th>\n",
       "      <th>satisfaction</th>\n",
       "    </tr>\n",
       "  </thead>\n",
       "  <tbody>\n",
       "    <tr>\n",
       "      <th>0</th>\n",
       "      <td>0</td>\n",
       "      <td>0</td>\n",
       "      <td>0</td>\n",
       "      <td>0</td>\n",
       "      <td>0</td>\n",
       "      <td>0</td>\n",
       "      <td>0</td>\n",
       "      <td>0</td>\n",
       "      <td>0</td>\n",
       "      <td>0</td>\n",
       "      <td>...</td>\n",
       "      <td>0</td>\n",
       "      <td>0</td>\n",
       "      <td>0</td>\n",
       "      <td>0</td>\n",
       "      <td>0</td>\n",
       "      <td>0</td>\n",
       "      <td>0</td>\n",
       "      <td>0</td>\n",
       "      <td>310</td>\n",
       "      <td>0</td>\n",
       "    </tr>\n",
       "  </tbody>\n",
       "</table>\n",
       "<p>1 rows × 25 columns</p>\n",
       "</div>"
      ],
      "text/plain": [
       "   _c0  id  Gender  Customer_Type  Age  Type_of_Travel  Class  \\\n",
       "0    0   0       0              0    0               0      0   \n",
       "\n",
       "   Flight_Distance  Inflight_wifi_service  Departure/Arrival_time_convenient  \\\n",
       "0                0                      0                                  0   \n",
       "\n",
       "   ...  Inflight_entertainment  On-board_service  Leg_room_service  \\\n",
       "0  ...                       0                 0                 0   \n",
       "\n",
       "   Baggage_handling  Checkin_service  Inflight_service  Cleanliness  \\\n",
       "0                 0                0                 0            0   \n",
       "\n",
       "   Departure_Delay_in_Minutes  Arrival_Delay_in_Minutes  satisfaction  \n",
       "0                           0                       310             0  \n",
       "\n",
       "[1 rows x 25 columns]"
      ]
     },
     "execution_count": 7,
     "metadata": {},
     "output_type": "execute_result"
    }
   ],
   "source": [
    "data.select([count(when(isnan(c)|col(c).isNull(),c)).alias(c) for c in data.columns]).toPandas()"
   ]
  },
  {
   "cell_type": "code",
   "execution_count": 8,
   "id": "4886463e",
   "metadata": {},
   "outputs": [],
   "source": [
    "data = data.drop(*[\"_c0\",\"id\"])\n",
    "# data.na.drop()\n",
    "data = data.fillna({\"Arrival_Delay_in_Minutes\":0})"
   ]
  },
  {
   "cell_type": "code",
   "execution_count": 9,
   "id": "c5ef449b",
   "metadata": {},
   "outputs": [
    {
     "name": "stderr",
     "output_type": "stream",
     "text": [
      "                                                                                \r"
     ]
    },
    {
     "data": {
      "text/html": [
       "<div>\n",
       "<style scoped>\n",
       "    .dataframe tbody tr th:only-of-type {\n",
       "        vertical-align: middle;\n",
       "    }\n",
       "\n",
       "    .dataframe tbody tr th {\n",
       "        vertical-align: top;\n",
       "    }\n",
       "\n",
       "    .dataframe thead th {\n",
       "        text-align: right;\n",
       "    }\n",
       "</style>\n",
       "<table border=\"1\" class=\"dataframe\">\n",
       "  <thead>\n",
       "    <tr style=\"text-align: right;\">\n",
       "      <th></th>\n",
       "      <th>Gender</th>\n",
       "      <th>Customer_Type</th>\n",
       "      <th>Age</th>\n",
       "      <th>Type_of_Travel</th>\n",
       "      <th>Class</th>\n",
       "      <th>Flight_Distance</th>\n",
       "      <th>Inflight_wifi_service</th>\n",
       "      <th>Departure/Arrival_time_convenient</th>\n",
       "      <th>Ease_of_Online_booking</th>\n",
       "      <th>Gate_location</th>\n",
       "      <th>...</th>\n",
       "      <th>Inflight_entertainment</th>\n",
       "      <th>On-board_service</th>\n",
       "      <th>Leg_room_service</th>\n",
       "      <th>Baggage_handling</th>\n",
       "      <th>Checkin_service</th>\n",
       "      <th>Inflight_service</th>\n",
       "      <th>Cleanliness</th>\n",
       "      <th>Departure_Delay_in_Minutes</th>\n",
       "      <th>Arrival_Delay_in_Minutes</th>\n",
       "      <th>satisfaction</th>\n",
       "    </tr>\n",
       "  </thead>\n",
       "  <tbody>\n",
       "    <tr>\n",
       "      <th>0</th>\n",
       "      <td>0</td>\n",
       "      <td>0</td>\n",
       "      <td>0</td>\n",
       "      <td>0</td>\n",
       "      <td>0</td>\n",
       "      <td>0</td>\n",
       "      <td>0</td>\n",
       "      <td>0</td>\n",
       "      <td>0</td>\n",
       "      <td>0</td>\n",
       "      <td>...</td>\n",
       "      <td>0</td>\n",
       "      <td>0</td>\n",
       "      <td>0</td>\n",
       "      <td>0</td>\n",
       "      <td>0</td>\n",
       "      <td>0</td>\n",
       "      <td>0</td>\n",
       "      <td>0</td>\n",
       "      <td>0</td>\n",
       "      <td>0</td>\n",
       "    </tr>\n",
       "  </tbody>\n",
       "</table>\n",
       "<p>1 rows × 23 columns</p>\n",
       "</div>"
      ],
      "text/plain": [
       "   Gender  Customer_Type  Age  Type_of_Travel  Class  Flight_Distance  \\\n",
       "0       0              0    0               0      0                0   \n",
       "\n",
       "   Inflight_wifi_service  Departure/Arrival_time_convenient  \\\n",
       "0                      0                                  0   \n",
       "\n",
       "   Ease_of_Online_booking  Gate_location  ...  Inflight_entertainment  \\\n",
       "0                       0              0  ...                       0   \n",
       "\n",
       "   On-board_service  Leg_room_service  Baggage_handling  Checkin_service  \\\n",
       "0                 0                 0                 0                0   \n",
       "\n",
       "   Inflight_service  Cleanliness  Departure_Delay_in_Minutes  \\\n",
       "0                 0            0                           0   \n",
       "\n",
       "   Arrival_Delay_in_Minutes  satisfaction  \n",
       "0                         0             0  \n",
       "\n",
       "[1 rows x 23 columns]"
      ]
     },
     "execution_count": 9,
     "metadata": {},
     "output_type": "execute_result"
    }
   ],
   "source": [
    "data.select([count(when(isnan(c)|col(c).isNull(),c)).alias(c) for c in data.columns]).toPandas()"
   ]
  },
  {
   "cell_type": "code",
   "execution_count": 10,
   "id": "f5abfd04",
   "metadata": {
    "scrolled": true
   },
   "outputs": [
    {
     "name": "stdout",
     "output_type": "stream",
     "text": [
      "root\n",
      " |-- Gender: string (nullable = true)\n",
      " |-- Customer_Type: string (nullable = true)\n",
      " |-- Age: string (nullable = true)\n",
      " |-- Type_of_Travel: string (nullable = true)\n",
      " |-- Class: string (nullable = true)\n",
      " |-- Flight_Distance: string (nullable = true)\n",
      " |-- Inflight_wifi_service: string (nullable = true)\n",
      " |-- Departure/Arrival_time_convenient: string (nullable = true)\n",
      " |-- Ease_of_Online_booking: string (nullable = true)\n",
      " |-- Gate_location: string (nullable = true)\n",
      " |-- Food_and_drink: string (nullable = true)\n",
      " |-- Online_boarding: string (nullable = true)\n",
      " |-- Seat_comfort: string (nullable = true)\n",
      " |-- Inflight_entertainment: string (nullable = true)\n",
      " |-- On-board_service: string (nullable = true)\n",
      " |-- Leg_room_service: string (nullable = true)\n",
      " |-- Baggage_handling: string (nullable = true)\n",
      " |-- Checkin_service: string (nullable = true)\n",
      " |-- Inflight_service: string (nullable = true)\n",
      " |-- Cleanliness: string (nullable = true)\n",
      " |-- Departure_Delay_in_Minutes: string (nullable = true)\n",
      " |-- Arrival_Delay_in_Minutes: string (nullable = false)\n",
      " |-- satisfaction: string (nullable = true)\n",
      "\n"
     ]
    }
   ],
   "source": [
    "#Cau truc du lieu:\n",
    "data.printSchema()"
   ]
  },
  {
   "cell_type": "code",
   "execution_count": 11,
   "id": "473d09b2",
   "metadata": {},
   "outputs": [],
   "source": [
    "#convert datatype to int\n",
    "data = data.withColumn('Age',data['Age'].cast('int'))\n",
    "data = data.withColumn('Flight_Distance',data['Flight_Distance'].cast('int'))\n",
    "data = data.withColumn('Inflight_wifi_service',data['Inflight_wifi_service'].cast('int'))\n",
    "data = data.withColumn('Departure/Arrival_time_convenient',data['Departure/Arrival_time_convenient'].cast('int'))\n",
    "data = data.withColumn('Ease_of_Online_booking',data['Ease_of_Online_booking'].cast('int'))\n",
    "data = data.withColumn('Gate_location',data['Gate_location'].cast('int'))\n",
    "data = data.withColumn('Food_and_drink',data['Food_and_drink'].cast('int'))\n",
    "data = data.withColumn('Online_boarding',data['Online_boarding'].cast('int'))\n",
    "data = data.withColumn('Seat_comfort',data['Seat_comfort'].cast('int'))\n",
    "data = data.withColumn('On-board_service',data['On-board_service'].cast('int'))\n",
    "data = data.withColumn('Leg_room_service',data['Leg_room_service'].cast('int'))\n",
    "data = data.withColumn('Baggage_handling',data['Baggage_handling'].cast('int'))\n",
    "data = data.withColumn('Checkin_service',data['Checkin_service'].cast('int'))\n",
    "data = data.withColumn('Inflight_service',data['Inflight_service'].cast('int'))\n",
    "data = data.withColumn('Cleanliness',data['Cleanliness'].cast('int'))\n",
    "data = data.withColumn('Departure_Delay_in_Minutes',data['Departure_Delay_in_Minutes'].cast('int'))\n",
    "data = data.withColumn('Inflight_entertainment',data['Inflight_entertainment'].cast('int'))\n",
    "data = data.withColumn('Arrival_Delay_in_Minutes',data['Arrival_Delay_in_Minutes'].cast('int'))\n"
   ]
  },
  {
   "cell_type": "code",
   "execution_count": null,
   "id": "17ae150c",
   "metadata": {},
   "outputs": [],
   "source": []
  },
  {
   "cell_type": "code",
   "execution_count": 12,
   "id": "6065e1e5",
   "metadata": {},
   "outputs": [
    {
     "name": "stdout",
     "output_type": "stream",
     "text": [
      "root\n",
      " |-- Gender: string (nullable = true)\n",
      " |-- Customer_Type: string (nullable = true)\n",
      " |-- Age: integer (nullable = true)\n",
      " |-- Type_of_Travel: string (nullable = true)\n",
      " |-- Class: string (nullable = true)\n",
      " |-- Flight_Distance: integer (nullable = true)\n",
      " |-- Inflight_wifi_service: integer (nullable = true)\n",
      " |-- Departure/Arrival_time_convenient: integer (nullable = true)\n",
      " |-- Ease_of_Online_booking: integer (nullable = true)\n",
      " |-- Gate_location: integer (nullable = true)\n",
      " |-- Food_and_drink: integer (nullable = true)\n",
      " |-- Online_boarding: integer (nullable = true)\n",
      " |-- Seat_comfort: integer (nullable = true)\n",
      " |-- Inflight_entertainment: integer (nullable = true)\n",
      " |-- On-board_service: integer (nullable = true)\n",
      " |-- Leg_room_service: integer (nullable = true)\n",
      " |-- Baggage_handling: integer (nullable = true)\n",
      " |-- Checkin_service: integer (nullable = true)\n",
      " |-- Inflight_service: integer (nullable = true)\n",
      " |-- Cleanliness: integer (nullable = true)\n",
      " |-- Departure_Delay_in_Minutes: integer (nullable = true)\n",
      " |-- Arrival_Delay_in_Minutes: integer (nullable = true)\n",
      " |-- satisfaction: string (nullable = true)\n",
      "\n"
     ]
    }
   ],
   "source": [
    "data.printSchema()"
   ]
  },
  {
   "cell_type": "code",
   "execution_count": 13,
   "id": "c42dcf33",
   "metadata": {},
   "outputs": [
    {
     "data": {
      "text/plain": [
       "[Row(Gender='Male', Customer_Type='Loyal Customer', Age=13, Type_of_Travel='Personal Travel', Class='Eco Plus', Flight_Distance=460, Inflight_wifi_service=3, Departure/Arrival_time_convenient=4, Ease_of_Online_booking=3, Gate_location=1, Food_and_drink=5, Online_boarding=3, Seat_comfort=5, Inflight_entertainment=5, On-board_service=4, Leg_room_service=3, Baggage_handling=4, Checkin_service=4, Inflight_service=5, Cleanliness=5, Departure_Delay_in_Minutes=25, Arrival_Delay_in_Minutes=18, satisfaction='neutral or dissatisfied'),\n",
       " Row(Gender='Male', Customer_Type='disloyal Customer', Age=25, Type_of_Travel='Business travel', Class='Business', Flight_Distance=235, Inflight_wifi_service=3, Departure/Arrival_time_convenient=2, Ease_of_Online_booking=3, Gate_location=3, Food_and_drink=1, Online_boarding=3, Seat_comfort=1, Inflight_entertainment=1, On-board_service=1, Leg_room_service=5, Baggage_handling=3, Checkin_service=1, Inflight_service=4, Cleanliness=1, Departure_Delay_in_Minutes=1, Arrival_Delay_in_Minutes=6, satisfaction='neutral or dissatisfied')]"
      ]
     },
     "execution_count": 13,
     "metadata": {},
     "output_type": "execute_result"
    }
   ],
   "source": [
    "data.take(2)"
   ]
  },
  {
   "cell_type": "code",
   "execution_count": 14,
   "id": "a7d5baeb",
   "metadata": {},
   "outputs": [
    {
     "name": "stderr",
     "output_type": "stream",
     "text": [
      "                                                                                \r"
     ]
    },
    {
     "data": {
      "text/html": [
       "<div>\n",
       "<style scoped>\n",
       "    .dataframe tbody tr th:only-of-type {\n",
       "        vertical-align: middle;\n",
       "    }\n",
       "\n",
       "    .dataframe tbody tr th {\n",
       "        vertical-align: top;\n",
       "    }\n",
       "\n",
       "    .dataframe thead th {\n",
       "        text-align: right;\n",
       "    }\n",
       "</style>\n",
       "<table border=\"1\" class=\"dataframe\">\n",
       "  <thead>\n",
       "    <tr style=\"text-align: right;\">\n",
       "      <th></th>\n",
       "      <th>Age</th>\n",
       "      <th>Flight_Distance</th>\n",
       "      <th>Inflight_wifi_service</th>\n",
       "      <th>Departure/Arrival_time_convenient</th>\n",
       "      <th>Ease_of_Online_booking</th>\n",
       "      <th>Gate_location</th>\n",
       "      <th>Food_and_drink</th>\n",
       "      <th>Online_boarding</th>\n",
       "      <th>Seat_comfort</th>\n",
       "      <th>Inflight_entertainment</th>\n",
       "      <th>On-board_service</th>\n",
       "      <th>Leg_room_service</th>\n",
       "      <th>Baggage_handling</th>\n",
       "      <th>Checkin_service</th>\n",
       "      <th>Inflight_service</th>\n",
       "      <th>Cleanliness</th>\n",
       "      <th>Departure_Delay_in_Minutes</th>\n",
       "      <th>Arrival_Delay_in_Minutes</th>\n",
       "    </tr>\n",
       "  </thead>\n",
       "  <tbody>\n",
       "    <tr>\n",
       "      <th>count</th>\n",
       "      <td>103904.000000</td>\n",
       "      <td>103904.000000</td>\n",
       "      <td>103904.000000</td>\n",
       "      <td>103904.000000</td>\n",
       "      <td>103904.000000</td>\n",
       "      <td>103904.000000</td>\n",
       "      <td>103904.000000</td>\n",
       "      <td>103904.000000</td>\n",
       "      <td>103904.000000</td>\n",
       "      <td>103904.000000</td>\n",
       "      <td>103904.000000</td>\n",
       "      <td>103904.000000</td>\n",
       "      <td>103904.000000</td>\n",
       "      <td>103904.000000</td>\n",
       "      <td>103904.000000</td>\n",
       "      <td>103904.000000</td>\n",
       "      <td>103904.000000</td>\n",
       "      <td>103904.000000</td>\n",
       "    </tr>\n",
       "    <tr>\n",
       "      <th>mean</th>\n",
       "      <td>39.379706</td>\n",
       "      <td>1189.448375</td>\n",
       "      <td>2.729683</td>\n",
       "      <td>3.060296</td>\n",
       "      <td>2.756901</td>\n",
       "      <td>2.976883</td>\n",
       "      <td>3.202129</td>\n",
       "      <td>3.250375</td>\n",
       "      <td>3.439396</td>\n",
       "      <td>3.358158</td>\n",
       "      <td>3.382363</td>\n",
       "      <td>3.351055</td>\n",
       "      <td>3.631833</td>\n",
       "      <td>3.304290</td>\n",
       "      <td>3.640428</td>\n",
       "      <td>3.286351</td>\n",
       "      <td>14.815618</td>\n",
       "      <td>15.133392</td>\n",
       "    </tr>\n",
       "    <tr>\n",
       "      <th>std</th>\n",
       "      <td>15.114964</td>\n",
       "      <td>997.147281</td>\n",
       "      <td>1.327829</td>\n",
       "      <td>1.525075</td>\n",
       "      <td>1.398929</td>\n",
       "      <td>1.277621</td>\n",
       "      <td>1.329533</td>\n",
       "      <td>1.349509</td>\n",
       "      <td>1.319088</td>\n",
       "      <td>1.332991</td>\n",
       "      <td>1.288354</td>\n",
       "      <td>1.315605</td>\n",
       "      <td>1.180903</td>\n",
       "      <td>1.265396</td>\n",
       "      <td>1.175663</td>\n",
       "      <td>1.312273</td>\n",
       "      <td>38.230901</td>\n",
       "      <td>38.649776</td>\n",
       "    </tr>\n",
       "    <tr>\n",
       "      <th>min</th>\n",
       "      <td>7.000000</td>\n",
       "      <td>31.000000</td>\n",
       "      <td>0.000000</td>\n",
       "      <td>0.000000</td>\n",
       "      <td>0.000000</td>\n",
       "      <td>0.000000</td>\n",
       "      <td>0.000000</td>\n",
       "      <td>0.000000</td>\n",
       "      <td>0.000000</td>\n",
       "      <td>0.000000</td>\n",
       "      <td>0.000000</td>\n",
       "      <td>0.000000</td>\n",
       "      <td>1.000000</td>\n",
       "      <td>0.000000</td>\n",
       "      <td>0.000000</td>\n",
       "      <td>0.000000</td>\n",
       "      <td>0.000000</td>\n",
       "      <td>0.000000</td>\n",
       "    </tr>\n",
       "    <tr>\n",
       "      <th>25%</th>\n",
       "      <td>27.000000</td>\n",
       "      <td>414.000000</td>\n",
       "      <td>2.000000</td>\n",
       "      <td>2.000000</td>\n",
       "      <td>2.000000</td>\n",
       "      <td>2.000000</td>\n",
       "      <td>2.000000</td>\n",
       "      <td>2.000000</td>\n",
       "      <td>2.000000</td>\n",
       "      <td>2.000000</td>\n",
       "      <td>2.000000</td>\n",
       "      <td>2.000000</td>\n",
       "      <td>3.000000</td>\n",
       "      <td>3.000000</td>\n",
       "      <td>3.000000</td>\n",
       "      <td>2.000000</td>\n",
       "      <td>0.000000</td>\n",
       "      <td>0.000000</td>\n",
       "    </tr>\n",
       "    <tr>\n",
       "      <th>50%</th>\n",
       "      <td>40.000000</td>\n",
       "      <td>843.000000</td>\n",
       "      <td>3.000000</td>\n",
       "      <td>3.000000</td>\n",
       "      <td>3.000000</td>\n",
       "      <td>3.000000</td>\n",
       "      <td>3.000000</td>\n",
       "      <td>3.000000</td>\n",
       "      <td>4.000000</td>\n",
       "      <td>4.000000</td>\n",
       "      <td>4.000000</td>\n",
       "      <td>4.000000</td>\n",
       "      <td>4.000000</td>\n",
       "      <td>3.000000</td>\n",
       "      <td>4.000000</td>\n",
       "      <td>3.000000</td>\n",
       "      <td>0.000000</td>\n",
       "      <td>0.000000</td>\n",
       "    </tr>\n",
       "    <tr>\n",
       "      <th>75%</th>\n",
       "      <td>51.000000</td>\n",
       "      <td>1743.000000</td>\n",
       "      <td>4.000000</td>\n",
       "      <td>4.000000</td>\n",
       "      <td>4.000000</td>\n",
       "      <td>4.000000</td>\n",
       "      <td>4.000000</td>\n",
       "      <td>4.000000</td>\n",
       "      <td>5.000000</td>\n",
       "      <td>4.000000</td>\n",
       "      <td>4.000000</td>\n",
       "      <td>4.000000</td>\n",
       "      <td>5.000000</td>\n",
       "      <td>4.000000</td>\n",
       "      <td>5.000000</td>\n",
       "      <td>4.000000</td>\n",
       "      <td>12.000000</td>\n",
       "      <td>13.000000</td>\n",
       "    </tr>\n",
       "    <tr>\n",
       "      <th>max</th>\n",
       "      <td>85.000000</td>\n",
       "      <td>4983.000000</td>\n",
       "      <td>5.000000</td>\n",
       "      <td>5.000000</td>\n",
       "      <td>5.000000</td>\n",
       "      <td>5.000000</td>\n",
       "      <td>5.000000</td>\n",
       "      <td>5.000000</td>\n",
       "      <td>5.000000</td>\n",
       "      <td>5.000000</td>\n",
       "      <td>5.000000</td>\n",
       "      <td>5.000000</td>\n",
       "      <td>5.000000</td>\n",
       "      <td>5.000000</td>\n",
       "      <td>5.000000</td>\n",
       "      <td>5.000000</td>\n",
       "      <td>1592.000000</td>\n",
       "      <td>1584.000000</td>\n",
       "    </tr>\n",
       "  </tbody>\n",
       "</table>\n",
       "</div>"
      ],
      "text/plain": [
       "                 Age  Flight_Distance  Inflight_wifi_service  \\\n",
       "count  103904.000000    103904.000000          103904.000000   \n",
       "mean       39.379706      1189.448375               2.729683   \n",
       "std        15.114964       997.147281               1.327829   \n",
       "min         7.000000        31.000000               0.000000   \n",
       "25%        27.000000       414.000000               2.000000   \n",
       "50%        40.000000       843.000000               3.000000   \n",
       "75%        51.000000      1743.000000               4.000000   \n",
       "max        85.000000      4983.000000               5.000000   \n",
       "\n",
       "       Departure/Arrival_time_convenient  Ease_of_Online_booking  \\\n",
       "count                      103904.000000           103904.000000   \n",
       "mean                            3.060296                2.756901   \n",
       "std                             1.525075                1.398929   \n",
       "min                             0.000000                0.000000   \n",
       "25%                             2.000000                2.000000   \n",
       "50%                             3.000000                3.000000   \n",
       "75%                             4.000000                4.000000   \n",
       "max                             5.000000                5.000000   \n",
       "\n",
       "       Gate_location  Food_and_drink  Online_boarding   Seat_comfort  \\\n",
       "count  103904.000000   103904.000000    103904.000000  103904.000000   \n",
       "mean        2.976883        3.202129         3.250375       3.439396   \n",
       "std         1.277621        1.329533         1.349509       1.319088   \n",
       "min         0.000000        0.000000         0.000000       0.000000   \n",
       "25%         2.000000        2.000000         2.000000       2.000000   \n",
       "50%         3.000000        3.000000         3.000000       4.000000   \n",
       "75%         4.000000        4.000000         4.000000       5.000000   \n",
       "max         5.000000        5.000000         5.000000       5.000000   \n",
       "\n",
       "       Inflight_entertainment  On-board_service  Leg_room_service  \\\n",
       "count           103904.000000     103904.000000     103904.000000   \n",
       "mean                 3.358158          3.382363          3.351055   \n",
       "std                  1.332991          1.288354          1.315605   \n",
       "min                  0.000000          0.000000          0.000000   \n",
       "25%                  2.000000          2.000000          2.000000   \n",
       "50%                  4.000000          4.000000          4.000000   \n",
       "75%                  4.000000          4.000000          4.000000   \n",
       "max                  5.000000          5.000000          5.000000   \n",
       "\n",
       "       Baggage_handling  Checkin_service  Inflight_service    Cleanliness  \\\n",
       "count     103904.000000    103904.000000     103904.000000  103904.000000   \n",
       "mean           3.631833         3.304290          3.640428       3.286351   \n",
       "std            1.180903         1.265396          1.175663       1.312273   \n",
       "min            1.000000         0.000000          0.000000       0.000000   \n",
       "25%            3.000000         3.000000          3.000000       2.000000   \n",
       "50%            4.000000         3.000000          4.000000       3.000000   \n",
       "75%            5.000000         4.000000          5.000000       4.000000   \n",
       "max            5.000000         5.000000          5.000000       5.000000   \n",
       "\n",
       "       Departure_Delay_in_Minutes  Arrival_Delay_in_Minutes  \n",
       "count               103904.000000             103904.000000  \n",
       "mean                    14.815618                 15.133392  \n",
       "std                     38.230901                 38.649776  \n",
       "min                      0.000000                  0.000000  \n",
       "25%                      0.000000                  0.000000  \n",
       "50%                      0.000000                  0.000000  \n",
       "75%                     12.000000                 13.000000  \n",
       "max                   1592.000000               1584.000000  "
      ]
     },
     "execution_count": 14,
     "metadata": {},
     "output_type": "execute_result"
    }
   ],
   "source": [
    "#summary statistic for numeric variables\n",
    "# data.describe().show()\n",
    "data.toPandas().describe()"
   ]
  },
  {
   "cell_type": "code",
   "execution_count": 15,
   "id": "f26a6808",
   "metadata": {},
   "outputs": [],
   "source": [
    "# string_columns =[item[0] for item in data.dtypes if item[1].startswith('string')]\n",
    "# for col in data.columns:\n",
    "#     if not col in string_columns:\n",
    "#         medi = np.median(data.select(col).rdd.flatMap(lambda x:x).collect())\n",
    "#         print(\"Median of \", col,\":\", medi)"
   ]
  },
  {
   "cell_type": "code",
   "execution_count": 16,
   "id": "6d09bb88",
   "metadata": {},
   "outputs": [],
   "source": [
    "# string_columns =[item[0] for item in data.dtypes if item[1].startswith('string')]\n",
    "# for col in data.columns:\n",
    "#     if not col in string_columns:\n",
    "#         medi = np.min(data.select(col).rdd.flatMap(lambda x:x).collect())\n",
    "#         print(\"min of \", col,\":\", medi)"
   ]
  },
  {
   "cell_type": "code",
   "execution_count": 17,
   "id": "c8a0c9e0",
   "metadata": {},
   "outputs": [],
   "source": [
    "# string_columns =[item[0] for item in data.dtypes if item[1].startswith('string')]\n",
    "# for col in data.columns:\n",
    "#     if not col in string_columns:\n",
    "#         medi = np.mean(data.select(col).rdd.flatMap(lambda x:x).collect())\n",
    "#         print(\"Mean of \", col,\":\", medi)"
   ]
  },
  {
   "cell_type": "code",
   "execution_count": 18,
   "id": "e469ccc8",
   "metadata": {},
   "outputs": [],
   "source": [
    "# string_columns =[item[0] for item in data.dtypes if item[1].startswith('string')]\n",
    "# for col in data.columns:\n",
    "#     if not col in string_columns:\n",
    "#         medi = np.max(data.select(col).rdd.flatMap(lambda x:x).collect())\n",
    "#         print(\"Max of \", col,\":\", medi)"
   ]
  },
  {
   "cell_type": "code",
   "execution_count": 19,
   "id": "9cadd427",
   "metadata": {},
   "outputs": [],
   "source": [
    "# import seaborn as sns\n",
    "# sns.set(style=\"ticks\")\n",
    "# data= sns.load_dataset(\"iris\")\n",
    "# sns.pairplot(data, hue=\"species\")\n",
    "# plt.show()"
   ]
  },
  {
   "cell_type": "code",
   "execution_count": 20,
   "id": "7f39279c",
   "metadata": {},
   "outputs": [],
   "source": [
    "# import matplotlib.pyplot as plt\n",
    "# import seaborn as sns\n",
    "# sum_age = data.groupBy('Age').count().sort(\"Age\").collect()\n",
    "# age_count = list(map(lambda x: int(x[0]), sum_age))\n",
    "# class_count = list(map(lambda x: x[1],sum_age))\n",
    "\n",
    "# index = np.arange(len(age_count))\n",
    "\n",
    "# fig, ax = plt.subplots(figsize=(15,6))\n",
    "# ax.set_xlabel('Age')\n",
    "# ax.set_ylabel('Count')\n",
    "# ax.bar(age_count, class_count, align='center', width=0.5)\n",
    "# for i,v in enumerate(class_count):\n",
    "#     plt.text(x=i+7, y = v  ,s=f\"{v}\", fontdict=dict(fontsize=10),rotation='vertical', ha='center' )\n",
    "# plt.show()"
   ]
  },
  {
   "cell_type": "code",
   "execution_count": 21,
   "id": "614f8849",
   "metadata": {},
   "outputs": [],
   "source": [
    "# def ChartCountPlot(data,x_axis,hue):\n",
    "#     plt.figure(figsize=(20,10))\n",
    "#     sns.countplot(x_axis,data=data,hue=hue)\n",
    "#     plt.title(\"Chart of \"+x_axis +\" by \"+hue)\n",
    "#     plt.show()"
   ]
  },
  {
   "cell_type": "code",
   "execution_count": 22,
   "id": "2c8196ba",
   "metadata": {},
   "outputs": [],
   "source": [
    "# dt_pd = data.toPandas()"
   ]
  },
  {
   "cell_type": "code",
   "execution_count": 23,
   "id": "87a220e2",
   "metadata": {},
   "outputs": [],
   "source": [
    "# ChartCountPlot(dt_pd,'Age','satisfaction')"
   ]
  },
  {
   "cell_type": "code",
   "execution_count": 24,
   "id": "ca007982",
   "metadata": {},
   "outputs": [],
   "source": [
    "# gender_count = data.groupBy('Gender').count().collect()\n",
    "# gender_ = list(map(lambda x: x[0],gender_count))\n",
    "# count_ = list(map(lambda x: int(x[1]),gender_count))\n",
    "\n",
    "# fig, ax = plt.subplots(figsize=(10,5))\n",
    "# ind = np.arange(len(count_))\n",
    "# for i, v in enumerate(count_):\n",
    "#     ax.text(v + 3, i, str(v), fontweight='bold', color='C0')\n",
    "#     ax.barh(ind, count_, color = 'C0')\n",
    "#     ax.set_yticks(ind)\n",
    "#     ax.set_yticklabels(gender_)\n",
    "#     plt.show"
   ]
  },
  {
   "cell_type": "code",
   "execution_count": 25,
   "id": "187a72fd",
   "metadata": {},
   "outputs": [],
   "source": [
    "# satisfaction = data.groupBy('Gender', 'satisfaction').count().sort('Gender').collect()\n",
    "# gender_ = list(map(lambda x: x[0],satisfaction))\n",
    "# satisfaction_ = list(map(lambda x: x[1],satisfaction))\n",
    "# count_ = list(map(lambda x: int(x[2]),satisfaction))\n",
    "\n",
    "\n",
    "# y_pos = np.arange(len(gender_))\n",
    "# error = np.random.rand(len(gender_))\n",
    "# clr = ('C0', 'C1')\n",
    "# fig, ax = plt.subplots(figsize=(10,5))\n",
    "# h = ax.barh(y_pos, count_, xerr=error, align='center', \n",
    "# alpha=0.4, label=gender_, color=clr)\n",
    "# plt.yticks(y_pos, gender_)\n",
    "# ax.set_title('Gender vs satisfaction')\n",
    "# plt.xlabel('Count')\n",
    "# plt.ylabel('Gender')\n",
    "# plt.legend(h,set(satisfaction_), loc=(0,1)\n",
    "#           )\n",
    "# for i,v in enumerate(count_):\n",
    "#     ax.text(v + 3, i, str(v), fontweight='bold', color='C0')\n",
    "# plt.show()"
   ]
  },
  {
   "cell_type": "code",
   "execution_count": 26,
   "id": "2383ddfe",
   "metadata": {},
   "outputs": [],
   "source": [
    "# satisfaction = data.groupBy('Class', 'satisfaction').count().sort('Class').collect()\n",
    "# class_ = list(map(lambda x: x[0],satisfaction))\n",
    "# satisfaction_ = list(map(lambda x: x[1],satisfaction))\n",
    "# count_ = list(map(lambda x: int(x[2]),satisfaction))\n",
    "\n",
    "\n",
    "# y_pos = np.arange(len(class_))\n",
    "# error = np.random.rand(len(class_))\n",
    "# clr = ('C0', 'C1')\n",
    "# fig, ax = plt.subplots(figsize=(13,5))\n",
    "# h = ax.barh(y_pos, count_, xerr=error, align='center', \n",
    "# alpha=0.4, label=class_, color=clr)\n",
    "# plt.yticks(y_pos, class_)\n",
    "# ax.set_title('Class vs satisfaction')\n",
    "# plt.xlabel('Count')\n",
    "# plt.ylabel('Class')\n",
    "# plt.legend(h,sorted(set(satisfaction_)))\n",
    "# for i,v in enumerate(count_):\n",
    "#     ax.text(v + 3, i, str(v), fontweight='bold', color='C0')\n",
    "# plt.show()"
   ]
  },
  {
   "cell_type": "code",
   "execution_count": 27,
   "id": "3f2a40f3",
   "metadata": {},
   "outputs": [],
   "source": [
    "# satisfaction = data.groupBy('Customer_Type', 'satisfaction').count().sort('Customer_Type').collect()\n",
    "# gender_ = list(map(lambda x: x[0],satisfaction))\n",
    "# satisfaction_ = list(map(lambda x: x[1],satisfaction))\n",
    "# count_ = list(map(lambda x: int(x[2]),satisfaction))\n",
    "\n",
    "\n",
    "# y_pos = np.arange(len(gender_))\n",
    "# error = np.random.rand(len(gender_))\n",
    "# clr = ('C0', 'C1')\n",
    "# fig, ax = plt.subplots(figsize=(13,5))\n",
    "# h = ax.barh(y_pos, count_, xerr=error, align='center', \n",
    "# alpha=0.4, label=gender_, color=clr)\n",
    "# plt.yticks(y_pos, gender_)\n",
    "# ax.set_title('Customer Type vs satisfaction')\n",
    "# plt.xlabel('Count')\n",
    "# plt.ylabel('Customer Type')\n",
    "# plt.legend(h,set(satisfaction_), loc=(0,1)\n",
    "#           )\n",
    "# for i,v in enumerate(count_):\n",
    "#     ax.text(v + 3, i, str(v), fontweight='bold', color='C0')\n",
    "# plt.show()"
   ]
  },
  {
   "cell_type": "code",
   "execution_count": 28,
   "id": "935b6c46",
   "metadata": {},
   "outputs": [],
   "source": [
    "# satisfaction = data.groupBy('Type_of_Travel', 'satisfaction').count().sort('Type_of_Travel','count').collect()\n",
    "# type_ = list(map(lambda x: x[0],satisfaction))\n",
    "# satisfaction_ = list(map(lambda x: x[1],satisfaction))\n",
    "# count_ = list(map(lambda x: int(x[2]),satisfaction))\n",
    "\n",
    "\n",
    "# y_pos = np.arange(len(type_))\n",
    "# error = np.random.rand(len(type_))\n",
    "# clr = ('C0', 'C1')\n",
    "# fig, ax = plt.subplots(figsize=(18,5))\n",
    "# h = ax.barh(y_pos, count_, xerr=error, align='center', \n",
    "# alpha=0.4, label=type_, color=clr)\n",
    "# plt.yticks(y_pos, type_)\n",
    "# ax.set_title('Type Travel vs satisfaction')\n",
    "# plt.xlabel('Count')\n",
    "# plt.ylabel('Type of Travel')\n",
    "\n",
    "# for i,(v,k) in enumerate(zip(count_,satisfaction_)):\n",
    "#     ax.text(v + 3, i, str(v)+' with '+str(k), fontweight='bold', color='C0')\n",
    "# plt.show()"
   ]
  },
  {
   "cell_type": "code",
   "execution_count": 29,
   "id": "c85b1b05",
   "metadata": {},
   "outputs": [],
   "source": [
    "# G=sns.FacetGrid(data=data.toPandas(), col='satisfaction',height=5)\n",
    "# G.map(sns.distplot, 'Flight_Distance')\n",
    "# plt.show()\n"
   ]
  },
  {
   "cell_type": "code",
   "execution_count": 30,
   "id": "862ffa4f",
   "metadata": {},
   "outputs": [],
   "source": [
    "# G=sns.FacetGrid(data=data.toPandas(), col='satisfaction',height=5)\n",
    "# G.map(sns.distplot, 'Arrival_Delay_in_Minutes')\n",
    "# plt.show()"
   ]
  },
  {
   "cell_type": "code",
   "execution_count": 31,
   "id": "0b26fe5b",
   "metadata": {},
   "outputs": [],
   "source": [
    "# data"
   ]
  },
  {
   "cell_type": "code",
   "execution_count": null,
   "id": "dc2b39ac",
   "metadata": {},
   "outputs": [],
   "source": []
  },
  {
   "cell_type": "code",
   "execution_count": 32,
   "id": "c6cb07fd",
   "metadata": {},
   "outputs": [],
   "source": [
    "# plt.figure(figsize=(12,12))\n",
    "# sns.heatmap(dt_pd.corr(method='pearson'), annot=True)"
   ]
  },
  {
   "cell_type": "code",
   "execution_count": 33,
   "id": "f2d1d60d",
   "metadata": {},
   "outputs": [],
   "source": [
    "data = data.drop(\"Departure_Delay_in_Minutes\")\n",
    "data = data.drop(\"Ease_of_Online_booking\")"
   ]
  },
  {
   "cell_type": "code",
   "execution_count": 34,
   "id": "44039823",
   "metadata": {},
   "outputs": [],
   "source": [
    "# def Balance(data):\n",
    "#     Range = int(len(data[data['satisfaction']=='neutral or dissatisfied'])) - int(len(data[data['satisfaction']=='satisfied']))\n",
    "#     if Range >0:\n",
    "#         index = data[data['satisfaction'] == 'neutral or dissatisfied'].index.values\n",
    "#         index = index.tolist()\n",
    "#         array = random.sample(index, Range)\n",
    "#         data = data.drop(labels=array, axis=0)\n",
    "#     else:\n",
    "#             index = data[data['satisfaction'] == 'satisfied'].index.values\n",
    "#             index = index.tolist()\n",
    "#             array = random.sample(index, -Range)\n",
    "#             data = data.drop(labels=array, axis=0)\n",
    "#     return data"
   ]
  },
  {
   "cell_type": "code",
   "execution_count": 35,
   "id": "ea099762",
   "metadata": {},
   "outputs": [],
   "source": [
    "# row_max = data.agg({'Age': 'max'},).collect()[0]\n",
    "# maxx = row_max['max(Age)']\n",
    "# row_min = data.agg({'Age': 'min'},).collect()[0]\n",
    "# minn = row_min['min(Age)']\n",
    "# #so gio = 10\n",
    "# dorong=(maxx-minn)/10\n",
    "# print(maxx,minn,dorong)"
   ]
  },
  {
   "cell_type": "code",
   "execution_count": 36,
   "id": "3ddf7eb5",
   "metadata": {},
   "outputs": [],
   "source": [
    "data = data.withColumn('Age', when(data.Age <15 ,\"[7..15)\") \\\n",
    "                           .when(data.Age <23,\"[15..23)\") \\\n",
    "                           .when(data.Age <31,\"[23..31)\") \\\n",
    "                           .when(data.Age <39,\"[31..39)\") \\\n",
    "                           .when(data.Age <47,\"[39..47)\") \\\n",
    "                           .when(data.Age <55,\"[47..55)\") \\\n",
    "                           .when(data.Age <63,\"[55..63)\") \\\n",
    "                           .when(data.Age <71,\"[63..71)\") \\\n",
    "                           .when(data.Age <79,\"[71..79)\") \\\n",
    "                           .otherwise(\"[79..)\"))\n",
    "# data.select(data['Age']).collect()"
   ]
  },
  {
   "cell_type": "code",
   "execution_count": 37,
   "id": "38748166",
   "metadata": {},
   "outputs": [],
   "source": [
    "# data.groupBy('Age').count().show()"
   ]
  },
  {
   "cell_type": "code",
   "execution_count": 38,
   "id": "22ed9c02",
   "metadata": {},
   "outputs": [],
   "source": [
    "# row_max = data.agg({'Flight_Distance': 'max'},).collect()[0]\n",
    "# maxx = row_max['max(Flight_Distance)']\n",
    "# row_min = data.agg({'Flight_Distance': 'min'},).collect()[0]\n",
    "# minn = row_min['min(Flight_Distance)']\n",
    "# #so gio = 10\n",
    "# dorong=(maxx-minn)/10\n",
    "# print(\"do rong:\",dorong)"
   ]
  },
  {
   "cell_type": "code",
   "execution_count": 39,
   "id": "ead6954e",
   "metadata": {},
   "outputs": [],
   "source": [
    "data = data.withColumn('Flight_Distance', when(data['Flight_Distance'] <526 ,\"[31...526)\") \\\n",
    "                           .when(data['Flight_Distance'] <  1021,\"[526...1021)\") \\\n",
    "                           .when(data['Flight_Distance'] <  1516,\"[1021...1516)\") \\\n",
    "                           .when(data['Flight_Distance'] <  2011,\"[1516...2011)\") \\\n",
    "                           .when(data['Flight_Distance'] <  2506,\"[2011...2506)\") \\\n",
    "                           .when(data['Flight_Distance'] <  3001 ,\"[2506...3001)\") \\\n",
    "                           .when(data['Flight_Distance'] <  3496,\"[3001...3496)\") \\\n",
    "                           .when(data['Flight_Distance'] <  3991,\"[3496...3991)\") \\\n",
    "                           .when(data['Flight_Distance'] <  4486,\"[3991...4486)\") \\\n",
    "                           .otherwise(\"[4486...)\"))\n",
    "# data.select(data['Flight_Distance']).collect()"
   ]
  },
  {
   "cell_type": "code",
   "execution_count": 40,
   "id": "dd874b92",
   "metadata": {},
   "outputs": [],
   "source": [
    "# data.groupBy('Flight_Distance').count().show()"
   ]
  },
  {
   "cell_type": "code",
   "execution_count": 41,
   "id": "fde122fb",
   "metadata": {},
   "outputs": [],
   "source": [
    "# row_max = data.agg({'Arrival_Delay_in_Minutes': 'max'},).collect()[0]\n",
    "# maxx = row_max['max(Arrival_Delay_in_Minutes)']\n",
    "# row_min = data.agg({'Arrival_Delay_in_Minutes': 'min'},).collect()[0]\n",
    "# minn = row_min['min(Arrival_Delay_in_Minutes)']\n",
    "# dorong=(maxx-minn)/10\n",
    "# print(maxx, minn ,dorong)"
   ]
  },
  {
   "cell_type": "code",
   "execution_count": 42,
   "id": "e64583b6",
   "metadata": {},
   "outputs": [],
   "source": [
    "data = data.withColumn('Arrival_Delay_in_Minutes', when(data['Arrival_Delay_in_Minutes'] <1 ,\"[..0)\") \\\n",
    "                           .when(data['Arrival_Delay_in_Minutes'] <  1021,\"[1..159)\") \\\n",
    "                           .when(data['Arrival_Delay_in_Minutes'] <  1516,\"[159...317)\") \\\n",
    "                           .when(data['Arrival_Delay_in_Minutes'] <  2011,\"[317...475)\") \\\n",
    "                           .when(data['Arrival_Delay_in_Minutes'] <  2506,\"[475...633)\") \\\n",
    "                           .when(data['Arrival_Delay_in_Minutes'] <  3001,\"[633...791)\") \\\n",
    "                           .when(data['Arrival_Delay_in_Minutes'] <  3496,\"[791...949)\") \\\n",
    "                           .when(data['Arrival_Delay_in_Minutes'] <  3991,\"[949...1107)\") \\\n",
    "                           .when(data['Arrival_Delay_in_Minutes'] <  4486,\"[1107...1265)\") \\\n",
    "                           .otherwise(\"[1265...)\"))"
   ]
  },
  {
   "cell_type": "code",
   "execution_count": 43,
   "id": "06cecefb",
   "metadata": {},
   "outputs": [
    {
     "name": "stderr",
     "output_type": "stream",
     "text": [
      "[Stage 20:===============================================>        (63 + 4) / 75]\r"
     ]
    },
    {
     "name": "stdout",
     "output_type": "stream",
     "text": [
      "+------------------------+-----+\n",
      "|Arrival_Delay_in_Minutes|count|\n",
      "+------------------------+-----+\n",
      "|                   [..0)|58469|\n",
      "|             [317...475)|    1|\n",
      "|                [1..159)|45433|\n",
      "|             [159...317)|    1|\n",
      "+------------------------+-----+\n",
      "\n"
     ]
    },
    {
     "name": "stderr",
     "output_type": "stream",
     "text": [
      "\r",
      "                                                                                \r"
     ]
    }
   ],
   "source": [
    "data.groupBy('Arrival_Delay_in_Minutes').count().show()"
   ]
  },
  {
   "cell_type": "code",
   "execution_count": 44,
   "id": "4b61fa90",
   "metadata": {},
   "outputs": [],
   "source": [
    "#convert datatype to string\n",
    "data = data.withColumn('Age',data['Age'].cast('string'))\n",
    "data = data.withColumn('Flight_Distance',data['Flight_Distance'].cast('string'))\n",
    "data = data.withColumn('Inflight_wifi_service',data['Inflight_wifi_service'].cast('string'))\n",
    "data = data.withColumn('Departure/Arrival_time_convenient',data['Departure/Arrival_time_convenient'].cast('string'))\n",
    "data = data.withColumn('Gate_location',data['Gate_location'].cast('string'))\n",
    "data = data.withColumn('Food_and_drink',data['Food_and_drink'].cast('string'))\n",
    "data = data.withColumn('Online_boarding',data['Online_boarding'].cast('string'))\n",
    "data = data.withColumn('Seat_comfort',data['Seat_comfort'].cast('string'))\n",
    "data = data.withColumn('On-board_service',data['On-board_service'].cast('string'))\n",
    "data = data.withColumn('Leg_room_service',data['Leg_room_service'].cast('string'))\n",
    "data = data.withColumn('Baggage_handling',data['Baggage_handling'].cast('string'))\n",
    "data = data.withColumn('Checkin_service',data['Checkin_service'].cast('string'))\n",
    "data = data.withColumn('Inflight_service',data['Inflight_service'].cast('string'))\n",
    "data = data.withColumn('Cleanliness',data['Cleanliness'].cast('string'))\n",
    "data = data.withColumn('Inflight_entertainment',data['Inflight_entertainment'].cast('string'))\n",
    "data = data.withColumn('Arrival_Delay_in_Minutes',data['Arrival_Delay_in_Minutes'].cast('string'))\n"
   ]
  },
  {
   "cell_type": "code",
   "execution_count": 45,
   "id": "b1591e26",
   "metadata": {},
   "outputs": [
    {
     "name": "stdout",
     "output_type": "stream",
     "text": [
      "root\n",
      " |-- Gender: string (nullable = true)\n",
      " |-- Customer_Type: string (nullable = true)\n",
      " |-- Age: string (nullable = false)\n",
      " |-- Type_of_Travel: string (nullable = true)\n",
      " |-- Class: string (nullable = true)\n",
      " |-- Flight_Distance: string (nullable = false)\n",
      " |-- Inflight_wifi_service: string (nullable = true)\n",
      " |-- Departure/Arrival_time_convenient: string (nullable = true)\n",
      " |-- Gate_location: string (nullable = true)\n",
      " |-- Food_and_drink: string (nullable = true)\n",
      " |-- Online_boarding: string (nullable = true)\n",
      " |-- Seat_comfort: string (nullable = true)\n",
      " |-- Inflight_entertainment: string (nullable = true)\n",
      " |-- On-board_service: string (nullable = true)\n",
      " |-- Leg_room_service: string (nullable = true)\n",
      " |-- Baggage_handling: string (nullable = true)\n",
      " |-- Checkin_service: string (nullable = true)\n",
      " |-- Inflight_service: string (nullable = true)\n",
      " |-- Cleanliness: string (nullable = true)\n",
      " |-- Arrival_Delay_in_Minutes: string (nullable = false)\n",
      " |-- satisfaction: string (nullable = true)\n",
      "\n"
     ]
    }
   ],
   "source": [
    "data.printSchema()"
   ]
  },
  {
   "cell_type": "code",
   "execution_count": 46,
   "id": "19f9ea56",
   "metadata": {},
   "outputs": [
    {
     "name": "stderr",
     "output_type": "stream",
     "text": [
      "                                                                                \r"
     ]
    },
    {
     "data": {
      "text/plain": [
       "[Row(satisfaction='neutral or dissatisfied'), Row(satisfaction='satisfied')]"
      ]
     },
     "execution_count": 46,
     "metadata": {},
     "output_type": "execute_result"
    }
   ],
   "source": [
    "data.select('satisfaction').distinct().collect()"
   ]
  },
  {
   "cell_type": "code",
   "execution_count": 47,
   "id": "7aecff2c",
   "metadata": {},
   "outputs": [],
   "source": [
    "from pyspark.sql.functions import udf\n",
    "from pyspark.sql.types import StringType\n",
    "t={\"neutral or dissatisfied\":0,\"satisfied\":1}\n",
    "udf_f= udf(lambda x:t[x], StringType())\n",
    "data=data.withColumn(\"y\", udf_f(\"satisfaction\")).drop(\"satisfaction\")"
   ]
  },
  {
   "cell_type": "code",
   "execution_count": 48,
   "id": "ae7a8ccb",
   "metadata": {},
   "outputs": [
    {
     "name": "stderr",
     "output_type": "stream",
     "text": [
      "                                                                                \r"
     ]
    },
    {
     "data": {
      "text/plain": [
       "[Row(y='0'), Row(y='1')]"
      ]
     },
     "execution_count": 48,
     "metadata": {},
     "output_type": "execute_result"
    }
   ],
   "source": [
    "data.select('y').distinct().collect()"
   ]
  },
  {
   "cell_type": "code",
   "execution_count": 49,
   "id": "5f1bc578",
   "metadata": {},
   "outputs": [
    {
     "name": "stderr",
     "output_type": "stream",
     "text": [
      "\r",
      "[Stage 25:>                                                         (0 + 1) / 1]\r",
      "\r",
      "                                                                                \r"
     ]
    },
    {
     "data": {
      "text/plain": [
       "[Row(Gender='Male', Customer_Type='Loyal Customer', Age='[7..15)', Type_of_Travel='Personal Travel', Class='Eco Plus', Flight_Distance='[31...526)', Inflight_wifi_service='3', Departure/Arrival_time_convenient='4', Gate_location='1', Food_and_drink='5', Online_boarding='3', Seat_comfort='5', Inflight_entertainment='5', On-board_service='4', Leg_room_service='3', Baggage_handling='4', Checkin_service='4', Inflight_service='5', Cleanliness='5', Arrival_Delay_in_Minutes='[1..159)', y='0'),\n",
       " Row(Gender='Male', Customer_Type='disloyal Customer', Age='[23..31)', Type_of_Travel='Business travel', Class='Business', Flight_Distance='[31...526)', Inflight_wifi_service='3', Departure/Arrival_time_convenient='2', Gate_location='3', Food_and_drink='1', Online_boarding='3', Seat_comfort='1', Inflight_entertainment='1', On-board_service='1', Leg_room_service='5', Baggage_handling='3', Checkin_service='1', Inflight_service='4', Cleanliness='1', Arrival_Delay_in_Minutes='[1..159)', y='0')]"
      ]
     },
     "execution_count": 49,
     "metadata": {},
     "output_type": "execute_result"
    }
   ],
   "source": [
    "data.take(2)"
   ]
  },
  {
   "cell_type": "code",
   "execution_count": 50,
   "id": "d3b6d607",
   "metadata": {},
   "outputs": [],
   "source": [
    "featureColumns = data.columns\n",
    "featureColumns.remove('y')"
   ]
  },
  {
   "cell_type": "code",
   "execution_count": 51,
   "id": "769ec589",
   "metadata": {},
   "outputs": [
    {
     "name": "stderr",
     "output_type": "stream",
     "text": [
      "Traceback (most recent call last):\n",
      "  File \"/home/huan/spark-3.1.2-bin-hadoop3.2/python/lib/pyspark.zip/pyspark/daemon.py\", line 186, in manager\n",
      "  File \"/home/huan/spark-3.1.2-bin-hadoop3.2/python/lib/pyspark.zip/pyspark/daemon.py\", line 74, in worker\n",
      "  File \"/home/huan/spark-3.1.2-bin-hadoop3.2/python/lib/pyspark.zip/pyspark/worker.py\", line 643, in main\n",
      "    if read_int(infile) == SpecialLengths.END_OF_STREAM:\n",
      "  File \"/home/huan/spark-3.1.2-bin-hadoop3.2/python/lib/pyspark.zip/pyspark/serializers.py\", line 564, in read_int\n",
      "    raise EOFError\n",
      "EOFError\n"
     ]
    }
   ],
   "source": [
    "# dataTrain,dataTest=data.randomSplit([0.7,0.3])\n",
    "(mini_data, tmp) = data.randomSplit([0.01,0.99], 5)\n",
    "(dataTrain, dataTest) = mini_data.randomSplit([0.8,0.2], 5)"
   ]
  },
  {
   "cell_type": "code",
   "execution_count": 52,
   "id": "46ba53c0",
   "metadata": {},
   "outputs": [
    {
     "name": "stderr",
     "output_type": "stream",
     "text": [
      "                                                                                \r"
     ]
    },
    {
     "name": "stdout",
     "output_type": "stream",
     "text": [
      "828\n"
     ]
    },
    {
     "name": "stderr",
     "output_type": "stream",
     "text": [
      "\r",
      "[Stage 28:>                                                         (0 + 3) / 3]\r"
     ]
    },
    {
     "name": "stdout",
     "output_type": "stream",
     "text": [
      "195\n"
     ]
    },
    {
     "name": "stderr",
     "output_type": "stream",
     "text": [
      "\r",
      "                                                                                \r"
     ]
    }
   ],
   "source": [
    "print(dataTrain.count())\n",
    "print(dataTest.count())"
   ]
  },
  {
   "cell_type": "code",
   "execution_count": 53,
   "id": "df3150b6",
   "metadata": {},
   "outputs": [
    {
     "name": "stderr",
     "output_type": "stream",
     "text": [
      "                                                                                \r"
     ]
    },
    {
     "data": {
      "text/plain": [
       "[Row(Gender='Female', Customer_Type='Loyal Customer', Age='[15..23)', Type_of_Travel='Business travel', Class='Business', Flight_Distance='[1021...1516)', Inflight_wifi_service='3', Departure/Arrival_time_convenient='3', Gate_location='3', Food_and_drink='2', Online_boarding='2', Seat_comfort='2', Inflight_entertainment='2', On-board_service='3', Leg_room_service='2', Baggage_handling='5', Checkin_service='3', Inflight_service='5', Cleanliness='2', Arrival_Delay_in_Minutes='[..0)', y='1'),\n",
       " Row(Gender='Female', Customer_Type='Loyal Customer', Age='[15..23)', Type_of_Travel='Business travel', Class='Business', Flight_Distance='[1516...2011)', Inflight_wifi_service='3', Departure/Arrival_time_convenient='3', Gate_location='3', Food_and_drink='4', Online_boarding='4', Seat_comfort='4', Inflight_entertainment='4', On-board_service='4', Leg_room_service='3', Baggage_handling='5', Checkin_service='2', Inflight_service='2', Cleanliness='4', Arrival_Delay_in_Minutes='[1..159)', y='1'),\n",
       " Row(Gender='Female', Customer_Type='Loyal Customer', Age='[15..23)', Type_of_Travel='Business travel', Class='Business', Flight_Distance='[1516...2011)', Inflight_wifi_service='5', Departure/Arrival_time_convenient='5', Gate_location='5', Food_and_drink='4', Online_boarding='4', Seat_comfort='4', Inflight_entertainment='4', On-board_service='4', Leg_room_service='4', Baggage_handling='4', Checkin_service='3', Inflight_service='5', Cleanliness='4', Arrival_Delay_in_Minutes='[..0)', y='1'),\n",
       " Row(Gender='Female', Customer_Type='Loyal Customer', Age='[15..23)', Type_of_Travel='Business travel', Class='Business', Flight_Distance='[3001...3496)', Inflight_wifi_service='3', Departure/Arrival_time_convenient='1', Gate_location='1', Food_and_drink='3', Online_boarding='3', Seat_comfort='3', Inflight_entertainment='3', On-board_service='4', Leg_room_service='1', Baggage_handling='4', Checkin_service='1', Inflight_service='4', Cleanliness='3', Arrival_Delay_in_Minutes='[1..159)', y='0'),\n",
       " Row(Gender='Female', Customer_Type='Loyal Customer', Age='[15..23)', Type_of_Travel='Business travel', Class='Eco Plus', Flight_Distance='[526...1021)', Inflight_wifi_service='2', Departure/Arrival_time_convenient='3', Gate_location='3', Food_and_drink='2', Online_boarding='2', Seat_comfort='4', Inflight_entertainment='2', On-board_service='4', Leg_room_service='1', Baggage_handling='3', Checkin_service='4', Inflight_service='4', Cleanliness='2', Arrival_Delay_in_Minutes='[1..159)', y='0')]"
      ]
     },
     "execution_count": 53,
     "metadata": {},
     "output_type": "execute_result"
    }
   ],
   "source": [
    "dataTrain.take(5)"
   ]
  },
  {
   "cell_type": "code",
   "execution_count": 54,
   "id": "72d714f0",
   "metadata": {},
   "outputs": [
    {
     "data": {
      "text/plain": [
       "DataFrame[Gender: string, Customer_Type: string, Age: string, Type_of_Travel: string, Class: string, Flight_Distance: string, Inflight_wifi_service: string, Departure/Arrival_time_convenient: string, Gate_location: string, Food_and_drink: string, Online_boarding: string, Seat_comfort: string, Inflight_entertainment: string, On-board_service: string, Leg_room_service: string, Baggage_handling: string, Checkin_service: string, Inflight_service: string, Cleanliness: string, Arrival_Delay_in_Minutes: string, y: string]"
      ]
     },
     "execution_count": 54,
     "metadata": {},
     "output_type": "execute_result"
    }
   ],
   "source": [
    "dataTrain"
   ]
  },
  {
   "cell_type": "code",
   "execution_count": 55,
   "id": "f08bd339",
   "metadata": {},
   "outputs": [
    {
     "name": "stderr",
     "output_type": "stream",
     "text": [
      "\r",
      "[Stage 31:>                                                         (0 + 1) / 1]\r"
     ]
    },
    {
     "name": "stdout",
     "output_type": "stream",
     "text": [
      "-RECORD 0--------------------------------------------\n",
      " Gender                            | Female          \n",
      " Customer_Type                     | Loyal Customer  \n",
      " Age                               | [15..23)        \n",
      " Type_of_Travel                    | Business travel \n",
      " Class                             | Business        \n",
      " Flight_Distance                   | [1021...1516)   \n",
      " Inflight_wifi_service             | 3               \n",
      " Departure/Arrival_time_convenient | 3               \n",
      " Gate_location                     | 3               \n",
      " Food_and_drink                    | 2               \n",
      " Online_boarding                   | 2               \n",
      " Seat_comfort                      | 2               \n",
      " Inflight_entertainment            | 2               \n",
      " On-board_service                  | 3               \n",
      " Leg_room_service                  | 2               \n",
      " Baggage_handling                  | 5               \n",
      " Checkin_service                   | 3               \n",
      " Inflight_service                  | 5               \n",
      " Cleanliness                       | 2               \n",
      " Arrival_Delay_in_Minutes          | [..0)           \n",
      " y                                 | 1               \n",
      "-RECORD 1--------------------------------------------\n",
      " Gender                            | Female          \n",
      " Customer_Type                     | Loyal Customer  \n",
      " Age                               | [15..23)        \n",
      " Type_of_Travel                    | Business travel \n",
      " Class                             | Business        \n",
      " Flight_Distance                   | [1516...2011)   \n",
      " Inflight_wifi_service             | 3               \n",
      " Departure/Arrival_time_convenient | 3               \n",
      " Gate_location                     | 3               \n",
      " Food_and_drink                    | 4               \n",
      " Online_boarding                   | 4               \n",
      " Seat_comfort                      | 4               \n",
      " Inflight_entertainment            | 4               \n",
      " On-board_service                  | 4               \n",
      " Leg_room_service                  | 3               \n",
      " Baggage_handling                  | 5               \n",
      " Checkin_service                   | 2               \n",
      " Inflight_service                  | 2               \n",
      " Cleanliness                       | 4               \n",
      " Arrival_Delay_in_Minutes          | [1..159)        \n",
      " y                                 | 1               \n",
      "-RECORD 2--------------------------------------------\n",
      " Gender                            | Female          \n",
      " Customer_Type                     | Loyal Customer  \n",
      " Age                               | [15..23)        \n",
      " Type_of_Travel                    | Business travel \n",
      " Class                             | Business        \n",
      " Flight_Distance                   | [1516...2011)   \n",
      " Inflight_wifi_service             | 5               \n",
      " Departure/Arrival_time_convenient | 5               \n",
      " Gate_location                     | 5               \n",
      " Food_and_drink                    | 4               \n",
      " Online_boarding                   | 4               \n",
      " Seat_comfort                      | 4               \n",
      " Inflight_entertainment            | 4               \n",
      " On-board_service                  | 4               \n",
      " Leg_room_service                  | 4               \n",
      " Baggage_handling                  | 4               \n",
      " Checkin_service                   | 3               \n",
      " Inflight_service                  | 5               \n",
      " Cleanliness                       | 4               \n",
      " Arrival_Delay_in_Minutes          | [..0)           \n",
      " y                                 | 1               \n",
      "-RECORD 3--------------------------------------------\n",
      " Gender                            | Female          \n",
      " Customer_Type                     | Loyal Customer  \n",
      " Age                               | [15..23)        \n",
      " Type_of_Travel                    | Business travel \n",
      " Class                             | Business        \n",
      " Flight_Distance                   | [3001...3496)   \n",
      " Inflight_wifi_service             | 3               \n",
      " Departure/Arrival_time_convenient | 1               \n",
      " Gate_location                     | 1               \n",
      " Food_and_drink                    | 3               \n",
      " Online_boarding                   | 3               \n",
      " Seat_comfort                      | 3               \n",
      " Inflight_entertainment            | 3               \n",
      " On-board_service                  | 4               \n",
      " Leg_room_service                  | 1               \n",
      " Baggage_handling                  | 4               \n",
      " Checkin_service                   | 1               \n",
      " Inflight_service                  | 4               \n",
      " Cleanliness                       | 3               \n",
      " Arrival_Delay_in_Minutes          | [1..159)        \n",
      " y                                 | 0               \n",
      "-RECORD 4--------------------------------------------\n",
      " Gender                            | Female          \n",
      " Customer_Type                     | Loyal Customer  \n",
      " Age                               | [15..23)        \n",
      " Type_of_Travel                    | Business travel \n",
      " Class                             | Eco Plus        \n",
      " Flight_Distance                   | [526...1021)    \n",
      " Inflight_wifi_service             | 2               \n",
      " Departure/Arrival_time_convenient | 3               \n",
      " Gate_location                     | 3               \n",
      " Food_and_drink                    | 2               \n",
      " Online_boarding                   | 2               \n",
      " Seat_comfort                      | 4               \n",
      " Inflight_entertainment            | 2               \n",
      " On-board_service                  | 4               \n",
      " Leg_room_service                  | 1               \n",
      " Baggage_handling                  | 3               \n",
      " Checkin_service                   | 4               \n",
      " Inflight_service                  | 4               \n",
      " Cleanliness                       | 2               \n",
      " Arrival_Delay_in_Minutes          | [1..159)        \n",
      " y                                 | 0               \n",
      "-RECORD 5--------------------------------------------\n",
      " Gender                            | Female          \n",
      " Customer_Type                     | Loyal Customer  \n",
      " Age                               | [15..23)        \n",
      " Type_of_Travel                    | Personal Travel \n",
      " Class                             | Eco             \n",
      " Flight_Distance                   | [1021...1516)   \n",
      " Inflight_wifi_service             | 2               \n",
      " Departure/Arrival_time_convenient | 5               \n",
      " Gate_location                     | 4               \n",
      " Food_and_drink                    | 1               \n",
      " Online_boarding                   | 2               \n",
      " Seat_comfort                      | 1               \n",
      " Inflight_entertainment            | 1               \n",
      " On-board_service                  | 5               \n",
      " Leg_room_service                  | 5               \n",
      " Baggage_handling                  | 5               \n",
      " Checkin_service                   | 4               \n",
      " Inflight_service                  | 4               \n",
      " Cleanliness                       | 1               \n",
      " Arrival_Delay_in_Minutes          | [..0)           \n",
      " y                                 | 0               \n",
      "-RECORD 6--------------------------------------------\n",
      " Gender                            | Female          \n",
      " Customer_Type                     | Loyal Customer  \n",
      " Age                               | [15..23)        \n",
      " Type_of_Travel                    | Personal Travel \n",
      " Class                             | Eco             \n",
      " Flight_Distance                   | [3001...3496)   \n",
      " Inflight_wifi_service             | 0               \n",
      " Departure/Arrival_time_convenient | 2               \n",
      " Gate_location                     | 4               \n",
      " Food_and_drink                    | 5               \n",
      " Online_boarding                   | 0               \n",
      " Seat_comfort                      | 5               \n",
      " Inflight_entertainment            | 5               \n",
      " On-board_service                  | 4               \n",
      " Leg_room_service                  | 1               \n",
      " Baggage_handling                  | 4               \n",
      " Checkin_service                   | 2               \n",
      " Inflight_service                  | 3               \n",
      " Cleanliness                       | 5               \n",
      " Arrival_Delay_in_Minutes          | [..0)           \n",
      " y                                 | 1               \n",
      "-RECORD 7--------------------------------------------\n",
      " Gender                            | Female          \n",
      " Customer_Type                     | Loyal Customer  \n",
      " Age                               | [15..23)        \n",
      " Type_of_Travel                    | Personal Travel \n",
      " Class                             | Eco             \n",
      " Flight_Distance                   | [31...526)      \n",
      " Inflight_wifi_service             | 2               \n",
      " Departure/Arrival_time_convenient | 5               \n",
      " Gate_location                     | 2               \n",
      " Food_and_drink                    | 3               \n",
      " Online_boarding                   | 2               \n",
      " Seat_comfort                      | 3               \n",
      " Inflight_entertainment            | 3               \n",
      " On-board_service                  | 3               \n",
      " Leg_room_service                  | 5               \n",
      " Baggage_handling                  | 5               \n",
      " Checkin_service                   | 5               \n",
      " Inflight_service                  | 4               \n",
      " Cleanliness                       | 3               \n",
      " Arrival_Delay_in_Minutes          | [..0)           \n",
      " y                                 | 0               \n",
      "-RECORD 8--------------------------------------------\n",
      " Gender                            | Female          \n",
      " Customer_Type                     | Loyal Customer  \n",
      " Age                               | [15..23)        \n",
      " Type_of_Travel                    | Personal Travel \n",
      " Class                             | Eco             \n",
      " Flight_Distance                   | [31...526)      \n",
      " Inflight_wifi_service             | 3               \n",
      " Departure/Arrival_time_convenient | 5               \n",
      " Gate_location                     | 3               \n",
      " Food_and_drink                    | 4               \n",
      " Online_boarding                   | 3               \n",
      " Seat_comfort                      | 3               \n",
      " Inflight_entertainment            | 4               \n",
      " On-board_service                  | 4               \n",
      " Leg_room_service                  | 3               \n",
      " Baggage_handling                  | 5               \n",
      " Checkin_service                   | 4               \n",
      " Inflight_service                  | 4               \n",
      " Cleanliness                       | 4               \n",
      " Arrival_Delay_in_Minutes          | [..0)           \n",
      " y                                 | 0               \n",
      "-RECORD 9--------------------------------------------\n",
      " Gender                            | Female          \n",
      " Customer_Type                     | Loyal Customer  \n",
      " Age                               | [15..23)        \n",
      " Type_of_Travel                    | Personal Travel \n",
      " Class                             | Eco             \n",
      " Flight_Distance                   | [526...1021)    \n",
      " Inflight_wifi_service             | 2               \n",
      " Departure/Arrival_time_convenient | 0               \n",
      " Gate_location                     | 3               \n",
      " Food_and_drink                    | 1               \n",
      " Online_boarding                   | 2               \n",
      " Seat_comfort                      | 5               \n",
      " Inflight_entertainment            | 1               \n",
      " On-board_service                  | 3               \n",
      " Leg_room_service                  | 4               \n",
      " Baggage_handling                  | 3               \n",
      " Checkin_service                   | 2               \n",
      " Inflight_service                  | 2               \n",
      " Cleanliness                       | 1               \n",
      " Arrival_Delay_in_Minutes          | [..0)           \n",
      " y                                 | 0               \n",
      "-RECORD 10-------------------------------------------\n",
      " Gender                            | Female          \n",
      " Customer_Type                     | Loyal Customer  \n",
      " Age                               | [15..23)        \n",
      " Type_of_Travel                    | Personal Travel \n",
      " Class                             | Eco             \n",
      " Flight_Distance                   | [526...1021)    \n",
      " Inflight_wifi_service             | 2               \n",
      " Departure/Arrival_time_convenient | 5               \n",
      " Gate_location                     | 2               \n",
      " Food_and_drink                    | 5               \n",
      " Online_boarding                   | 2               \n",
      " Seat_comfort                      | 5               \n",
      " Inflight_entertainment            | 5               \n",
      " On-board_service                  | 5               \n",
      " Leg_room_service                  | 3               \n",
      " Baggage_handling                  | 4               \n",
      " Checkin_service                   | 3               \n",
      " Inflight_service                  | 4               \n",
      " Cleanliness                       | 5               \n",
      " Arrival_Delay_in_Minutes          | [1..159)        \n",
      " y                                 | 0               \n",
      "-RECORD 11-------------------------------------------\n",
      " Gender                            | Female          \n",
      " Customer_Type                     | Loyal Customer  \n",
      " Age                               | [15..23)        \n",
      " Type_of_Travel                    | Personal Travel \n",
      " Class                             | Eco             \n",
      " Flight_Distance                   | [526...1021)    \n",
      " Inflight_wifi_service             | 3               \n",
      " Departure/Arrival_time_convenient | 5               \n",
      " Gate_location                     | 4               \n",
      " Food_and_drink                    | 3               \n",
      " Online_boarding                   | 2               \n",
      " Seat_comfort                      | 3               \n",
      " Inflight_entertainment            | 3               \n",
      " On-board_service                  | 3               \n",
      " Leg_room_service                  | 3               \n",
      " Baggage_handling                  | 5               \n",
      " Checkin_service                   | 4               \n",
      " Inflight_service                  | 5               \n",
      " Cleanliness                       | 3               \n",
      " Arrival_Delay_in_Minutes          | [1..159)        \n",
      " y                                 | 0               \n",
      "-RECORD 12-------------------------------------------\n",
      " Gender                            | Female          \n",
      " Customer_Type                     | Loyal Customer  \n",
      " Age                               | [15..23)        \n",
      " Type_of_Travel                    | Personal Travel \n",
      " Class                             | Eco Plus        \n",
      " Flight_Distance                   | [1021...1516)   \n",
      " Inflight_wifi_service             | 1               \n",
      " Departure/Arrival_time_convenient | 5               \n",
      " Gate_location                     | 3               \n",
      " Food_and_drink                    | 2               \n",
      " Online_boarding                   | 1               \n",
      " Seat_comfort                      | 2               \n",
      " Inflight_entertainment            | 2               \n",
      " On-board_service                  | 5               \n",
      " Leg_room_service                  | 2               \n",
      " Baggage_handling                  | 3               \n",
      " Checkin_service                   | 3               \n",
      " Inflight_service                  | 5               \n",
      " Cleanliness                       | 2               \n",
      " Arrival_Delay_in_Minutes          | [..0)           \n",
      " y                                 | 0               \n",
      "-RECORD 13-------------------------------------------\n",
      " Gender                            | Female          \n",
      " Customer_Type                     | Loyal Customer  \n",
      " Age                               | [15..23)        \n",
      " Type_of_Travel                    | Personal Travel \n",
      " Class                             | Eco Plus        \n",
      " Flight_Distance                   | [31...526)      \n",
      " Inflight_wifi_service             | 4               \n",
      " Departure/Arrival_time_convenient | 3               \n",
      " Gate_location                     | 2               \n",
      " Food_and_drink                    | 2               \n",
      " Online_boarding                   | 4               \n",
      " Seat_comfort                      | 5               \n",
      " Inflight_entertainment            | 2               \n",
      " On-board_service                  | 3               \n",
      " Leg_room_service                  | 3               \n",
      " Baggage_handling                  | 2               \n",
      " Checkin_service                   | 3               \n",
      " Inflight_service                  | 2               \n",
      " Cleanliness                       | 2               \n",
      " Arrival_Delay_in_Minutes          | [1..159)        \n",
      " y                                 | 0               \n",
      "-RECORD 14-------------------------------------------\n",
      " Gender                            | Female          \n",
      " Customer_Type                     | Loyal Customer  \n",
      " Age                               | [23..31)        \n",
      " Type_of_Travel                    | Business travel \n",
      " Class                             | Business        \n",
      " Flight_Distance                   | [1516...2011)   \n",
      " Inflight_wifi_service             | 1               \n",
      " Departure/Arrival_time_convenient | 1               \n",
      " Gate_location                     | 1               \n",
      " Food_and_drink                    | 4               \n",
      " Online_boarding                   | 4               \n",
      " Seat_comfort                      | 4               \n",
      " Inflight_entertainment            | 4               \n",
      " On-board_service                  | 5               \n",
      " Leg_room_service                  | 5               \n",
      " Baggage_handling                  | 4               \n",
      " Checkin_service                   | 3               \n",
      " Inflight_service                  | 4               \n",
      " Cleanliness                       | 4               \n",
      " Arrival_Delay_in_Minutes          | [..0)           \n",
      " y                                 | 1               \n",
      "-RECORD 15-------------------------------------------\n",
      " Gender                            | Female          \n",
      " Customer_Type                     | Loyal Customer  \n",
      " Age                               | [23..31)        \n",
      " Type_of_Travel                    | Business travel \n",
      " Class                             | Business        \n",
      " Flight_Distance                   | [1516...2011)   \n",
      " Inflight_wifi_service             | 4               \n",
      " Departure/Arrival_time_convenient | 4               \n",
      " Gate_location                     | 4               \n",
      " Food_and_drink                    | 5               \n",
      " Online_boarding                   | 5               \n",
      " Seat_comfort                      | 5               \n",
      " Inflight_entertainment            | 5               \n",
      " On-board_service                  | 3               \n",
      " Leg_room_service                  | 3               \n",
      " Baggage_handling                  | 5               \n",
      " Checkin_service                   | 3               \n",
      " Inflight_service                  | 5               \n",
      " Cleanliness                       | 5               \n",
      " Arrival_Delay_in_Minutes          | [1..159)        \n",
      " y                                 | 1               \n",
      "-RECORD 16-------------------------------------------\n",
      " Gender                            | Female          \n",
      " Customer_Type                     | Loyal Customer  \n",
      " Age                               | [23..31)        \n",
      " Type_of_Travel                    | Business travel \n",
      " Class                             | Business        \n",
      " Flight_Distance                   | [3001...3496)   \n",
      " Inflight_wifi_service             | 3               \n",
      " Departure/Arrival_time_convenient | 3               \n",
      " Gate_location                     | 3               \n",
      " Food_and_drink                    | 4               \n",
      " Online_boarding                   | 4               \n",
      " Seat_comfort                      | 4               \n",
      " Inflight_entertainment            | 4               \n",
      " On-board_service                  | 5               \n",
      " Leg_room_service                  | 5               \n",
      " Baggage_handling                  | 4               \n",
      " Checkin_service                   | 5               \n",
      " Inflight_service                  | 5               \n",
      " Cleanliness                       | 4               \n",
      " Arrival_Delay_in_Minutes          | [..0)           \n",
      " y                                 | 1               \n",
      "-RECORD 17-------------------------------------------\n",
      " Gender                            | Female          \n",
      " Customer_Type                     | Loyal Customer  \n",
      " Age                               | [23..31)        \n",
      " Type_of_Travel                    | Business travel \n",
      " Class                             | Business        \n",
      " Flight_Distance                   | [3001...3496)   \n",
      " Inflight_wifi_service             | 4               \n",
      " Departure/Arrival_time_convenient | 1               \n",
      " Gate_location                     | 1               \n",
      " Food_and_drink                    | 4               \n",
      " Online_boarding                   | 4               \n",
      " Seat_comfort                      | 4               \n",
      " Inflight_entertainment            | 4               \n",
      " On-board_service                  | 1               \n",
      " Leg_room_service                  | 4               \n",
      " Baggage_handling                  | 4               \n",
      " Checkin_service                   | 4               \n",
      " Inflight_service                  | 3               \n",
      " Cleanliness                       | 4               \n",
      " Arrival_Delay_in_Minutes          | [1..159)        \n",
      " y                                 | 0               \n",
      "-RECORD 18-------------------------------------------\n",
      " Gender                            | Female          \n",
      " Customer_Type                     | Loyal Customer  \n",
      " Age                               | [23..31)        \n",
      " Type_of_Travel                    | Business travel \n",
      " Class                             | Business        \n",
      " Flight_Distance                   | [3496...3991)   \n",
      " Inflight_wifi_service             | 1               \n",
      " Departure/Arrival_time_convenient | 1               \n",
      " Gate_location                     | 1               \n",
      " Food_and_drink                    | 4               \n",
      " Online_boarding                   | 4               \n",
      " Seat_comfort                      | 4               \n",
      " Inflight_entertainment            | 4               \n",
      " On-board_service                  | 4               \n",
      " Leg_room_service                  | 5               \n",
      " Baggage_handling                  | 5               \n",
      " Checkin_service                   | 5               \n",
      " Inflight_service                  | 5               \n",
      " Cleanliness                       | 4               \n",
      " Arrival_Delay_in_Minutes          | [1..159)        \n",
      " y                                 | 1               \n",
      "-RECORD 19-------------------------------------------\n",
      " Gender                            | Female          \n",
      " Customer_Type                     | Loyal Customer  \n",
      " Age                               | [23..31)        \n",
      " Type_of_Travel                    | Business travel \n",
      " Class                             | Business        \n",
      " Flight_Distance                   | [3496...3991)   \n",
      " Inflight_wifi_service             | 3               \n",
      " Departure/Arrival_time_convenient | 1               \n",
      " Gate_location                     | 1               \n",
      " Food_and_drink                    | 3               \n",
      " Online_boarding                   | 3               \n",
      " Seat_comfort                      | 3               \n",
      " Inflight_entertainment            | 3               \n",
      " On-board_service                  | 3               \n",
      " Leg_room_service                  | 4               \n",
      " Baggage_handling                  | 3               \n",
      " Checkin_service                   | 3               \n",
      " Inflight_service                  | 3               \n",
      " Cleanliness                       | 3               \n",
      " Arrival_Delay_in_Minutes          | [1..159)        \n",
      " y                                 | 0               \n",
      "only showing top 20 rows\n",
      "\n"
     ]
    },
    {
     "name": "stderr",
     "output_type": "stream",
     "text": [
      "\r",
      "                                                                                \r"
     ]
    }
   ],
   "source": [
    "dataTrain.show(vertical=True)"
   ]
  },
  {
   "cell_type": "code",
   "execution_count": 56,
   "id": "11feaae1",
   "metadata": {},
   "outputs": [],
   "source": [
    "# #chuyen sporadicValues sang panda_df\n",
    "# sporadicValues = pd.DataFrame(sporadicValues.collect(), columns=dataTrain.columns)\n"
   ]
  },
  {
   "cell_type": "code",
   "execution_count": 57,
   "id": "8c867100",
   "metadata": {},
   "outputs": [],
   "source": [
    "# #Tao df theo chieu doc cac cot features thanh dang key-value\n",
    "# def to_long(df,labelColumn):\n",
    "#     cols,dtypes = zip(*((c,t) for (c,t) in df.dtypes if c not in labelColumn))\n",
    "#     assert len(set(dtypes)) == 1,\"All columns have to be of the same type\"\n",
    "#     kvs=explode(array([struct(lit).t(calias(\"key\"), col(c).alias(\"val\")) for c in cols])).alias(\"kvs\")\n",
    "#     return df.select(labelColumn+[kvs]).select(labelColumn+[\"kvs.key\",\"kvs.val\"])"
   ]
  },
  {
   "cell_type": "code",
   "execution_count": 58,
   "id": "738f608f",
   "metadata": {},
   "outputs": [],
   "source": [
    "# keyValueTrainDF = to_long(dataTrain,\"y\")\n",
    "# keyValueTrainDF.registerTempTable(\"keyValueTrainDF\")\n",
    "# print(\"key-value train data\")"
   ]
  },
  {
   "cell_type": "code",
   "execution_count": 59,
   "id": "c33cbbf0",
   "metadata": {},
   "outputs": [],
   "source": [
    "def melt(\n",
    "        df: DataFrame, \n",
    "        id_vars: Iterable[str], value_vars: Iterable[str], \n",
    "        var_name: str=\"variable\", value_name: str=\"value\") -> DataFrame:\n",
    "    \"\"\"Convert :class:`DataFrame` from wide to long format.\"\"\"\n",
    "\n",
    "    # Create array<struct<variable: str, value: ...>>\n",
    "    _vars_and_vals = array(*(\n",
    "        struct(lit(c).alias(var_name), col(c).alias(value_name)) \n",
    "        for c in value_vars))\n",
    "\n",
    "    # Add to the DataFrame and explode\n",
    "    _tmp = df.withColumn(\"_vars_and_vals\", explode(_vars_and_vals))\n",
    "\n",
    "    cols = id_vars + [\n",
    "            col(\"_vars_and_vals\")[x].alias(x) for x in [var_name, value_name]]\n",
    "    return _tmp.select(*cols)"
   ]
  },
  {
   "cell_type": "code",
   "execution_count": 60,
   "id": "65419b33",
   "metadata": {},
   "outputs": [
    {
     "name": "stderr",
     "output_type": "stream",
     "text": [
      "\r",
      "[Stage 32:>                                                         (0 + 1) / 1]\r"
     ]
    },
    {
     "name": "stdout",
     "output_type": "stream",
     "text": [
      "+---+---------------------+---------------+\n",
      "|  y|independent_variables|          value|\n",
      "+---+---------------------+---------------+\n",
      "|  1|               Gender|         Female|\n",
      "|  1|        Customer_Type| Loyal Customer|\n",
      "|  1|                  Age|       [15..23)|\n",
      "|  1|       Type_of_Travel|Business travel|\n",
      "|  1|                Class|       Business|\n",
      "|  1|      Flight_Distance|  [1021...1516)|\n",
      "|  1| Inflight_wifi_ser...|              3|\n",
      "|  1| Departure/Arrival...|              3|\n",
      "|  1|        Gate_location|              3|\n",
      "|  1|       Food_and_drink|              2|\n",
      "|  1|      Online_boarding|              2|\n",
      "|  1|         Seat_comfort|              2|\n",
      "|  1| Inflight_entertai...|              2|\n",
      "|  1|     On-board_service|              3|\n",
      "|  1|     Leg_room_service|              2|\n",
      "|  1|     Baggage_handling|              5|\n",
      "|  1|      Checkin_service|              3|\n",
      "|  1|     Inflight_service|              5|\n",
      "|  1|          Cleanliness|              2|\n",
      "|  1| Arrival_Delay_in_...|          [..0)|\n",
      "+---+---------------------+---------------+\n",
      "only showing top 20 rows\n",
      "\n"
     ]
    },
    {
     "name": "stderr",
     "output_type": "stream",
     "text": [
      "\r",
      "                                                                                \r"
     ]
    }
   ],
   "source": [
    "dataTrain_melted=melt(dataTrain, id_vars=['y'],var_name='independent_variables',value_vars=featureColumns)\n",
    "dataTrain_melted.registerTempTable('TrainMelted')\n",
    "dataTrain_melted.show()"
   ]
  },
  {
   "cell_type": "code",
   "execution_count": 61,
   "id": "9c728aa3",
   "metadata": {},
   "outputs": [
    {
     "name": "stderr",
     "output_type": "stream",
     "text": [
      "                                                                                \r"
     ]
    },
    {
     "name": "stdout",
     "output_type": "stream",
     "text": [
      "+---------------------+-----------------+---+---------+\n",
      "|independent_variables|            value|  y|frequency|\n",
      "+---------------------+-----------------+---+---------+\n",
      "|     Leg_room_service|                0|  1|        2|\n",
      "|                  Age|          [7..15)|  1|       10|\n",
      "| Inflight_entertai...|                2|  1|       28|\n",
      "|        Customer_Type|disloyal Customer|  1|       35|\n",
      "|     Inflight_service|                5|  1|      136|\n",
      "|      Checkin_service|                5|  0|       67|\n",
      "|     Baggage_handling|                3|  1|       40|\n",
      "|     On-board_service|                4|  1|      133|\n",
      "| Inflight_wifi_ser...|                5|  1|       95|\n",
      "|      Checkin_service|                1|  0|       83|\n",
      "| Arrival_Delay_in_...|            [..0)|  0|      235|\n",
      "|     Inflight_service|                1|  0|       38|\n",
      "| Departure/Arrival...|                3|  1|       76|\n",
      "|      Online_boarding|                4|  0|       90|\n",
      "|                  Age|         [23..31)|  0|       82|\n",
      "| Inflight_wifi_ser...|                2|  0|      136|\n",
      "| Inflight_entertai...|                1|  1|       11|\n",
      "|                Class|              Eco|  1|       72|\n",
      "| Departure/Arrival...|                2|  1|       56|\n",
      "|      Flight_Distance|       [31...526)|  0|      182|\n",
      "+---------------------+-----------------+---+---------+\n",
      "only showing top 20 rows\n",
      "\n"
     ]
    }
   ],
   "source": [
    "train_frequencyCount = sqlContext.sql(\"SELECT independent_variables, value , y , COUNT(*) AS frequency FROM TrainMelted GROUP BY independent_variables, value , y\")\n",
    "train_frequencyCount.registerTempTable('TrainFrequency')\n",
    "train_frequencyCount.show()"
   ]
  },
  {
   "cell_type": "code",
   "execution_count": 62,
   "id": "84de2f0f",
   "metadata": {},
   "outputs": [
    {
     "name": "stderr",
     "output_type": "stream",
     "text": [
      "                                                                                \r"
     ]
    },
    {
     "data": {
      "text/html": [
       "<div>\n",
       "<style scoped>\n",
       "    .dataframe tbody tr th:only-of-type {\n",
       "        vertical-align: middle;\n",
       "    }\n",
       "\n",
       "    .dataframe tbody tr th {\n",
       "        vertical-align: top;\n",
       "    }\n",
       "\n",
       "    .dataframe thead th {\n",
       "        text-align: right;\n",
       "    }\n",
       "</style>\n",
       "<table border=\"1\" class=\"dataframe\">\n",
       "  <thead>\n",
       "    <tr style=\"text-align: right;\">\n",
       "      <th></th>\n",
       "      <th>independent_variables</th>\n",
       "      <th>value</th>\n",
       "      <th>y</th>\n",
       "      <th>frequency</th>\n",
       "    </tr>\n",
       "  </thead>\n",
       "  <tbody>\n",
       "    <tr>\n",
       "      <th>0</th>\n",
       "      <td>Leg_room_service</td>\n",
       "      <td>0</td>\n",
       "      <td>1</td>\n",
       "      <td>2</td>\n",
       "    </tr>\n",
       "    <tr>\n",
       "      <th>1</th>\n",
       "      <td>Age</td>\n",
       "      <td>[7..15)</td>\n",
       "      <td>1</td>\n",
       "      <td>10</td>\n",
       "    </tr>\n",
       "    <tr>\n",
       "      <th>2</th>\n",
       "      <td>Inflight_entertainment</td>\n",
       "      <td>2</td>\n",
       "      <td>1</td>\n",
       "      <td>28</td>\n",
       "    </tr>\n",
       "    <tr>\n",
       "      <th>3</th>\n",
       "      <td>Customer_Type</td>\n",
       "      <td>disloyal Customer</td>\n",
       "      <td>1</td>\n",
       "      <td>35</td>\n",
       "    </tr>\n",
       "    <tr>\n",
       "      <th>4</th>\n",
       "      <td>Inflight_service</td>\n",
       "      <td>5</td>\n",
       "      <td>1</td>\n",
       "      <td>136</td>\n",
       "    </tr>\n",
       "    <tr>\n",
       "      <th>...</th>\n",
       "      <td>...</td>\n",
       "      <td>...</td>\n",
       "      <td>...</td>\n",
       "      <td>...</td>\n",
       "    </tr>\n",
       "    <tr>\n",
       "      <th>189</th>\n",
       "      <td>Gender</td>\n",
       "      <td>Female</td>\n",
       "      <td>0</td>\n",
       "      <td>223</td>\n",
       "    </tr>\n",
       "    <tr>\n",
       "      <th>190</th>\n",
       "      <td>Gate_location</td>\n",
       "      <td>3</td>\n",
       "      <td>0</td>\n",
       "      <td>144</td>\n",
       "    </tr>\n",
       "    <tr>\n",
       "      <th>191</th>\n",
       "      <td>Departure/Arrival_time_convenient</td>\n",
       "      <td>1</td>\n",
       "      <td>1</td>\n",
       "      <td>63</td>\n",
       "    </tr>\n",
       "    <tr>\n",
       "      <th>192</th>\n",
       "      <td>Food_and_drink</td>\n",
       "      <td>3</td>\n",
       "      <td>0</td>\n",
       "      <td>93</td>\n",
       "    </tr>\n",
       "    <tr>\n",
       "      <th>193</th>\n",
       "      <td>Flight_Distance</td>\n",
       "      <td>[526...1021)</td>\n",
       "      <td>0</td>\n",
       "      <td>134</td>\n",
       "    </tr>\n",
       "  </tbody>\n",
       "</table>\n",
       "<p>194 rows × 4 columns</p>\n",
       "</div>"
      ],
      "text/plain": [
       "                 independent_variables              value  y  frequency\n",
       "0                     Leg_room_service                  0  1          2\n",
       "1                                  Age            [7..15)  1         10\n",
       "2               Inflight_entertainment                  2  1         28\n",
       "3                        Customer_Type  disloyal Customer  1         35\n",
       "4                     Inflight_service                  5  1        136\n",
       "..                                 ...                ... ..        ...\n",
       "189                             Gender             Female  0        223\n",
       "190                      Gate_location                  3  0        144\n",
       "191  Departure/Arrival_time_convenient                  1  1         63\n",
       "192                     Food_and_drink                  3  0         93\n",
       "193                    Flight_Distance       [526...1021)  0        134\n",
       "\n",
       "[194 rows x 4 columns]"
      ]
     },
     "execution_count": 62,
     "metadata": {},
     "output_type": "execute_result"
    }
   ],
   "source": [
    "train_frequency_pd = pd.DataFrame(train_frequencyCount.collect(), columns = train_frequencyCount.columns)\n",
    "_train_frequency_pd = sc.broadcast(train_frequency_pd)\n",
    "_train_frequency_pd.value"
   ]
  },
  {
   "cell_type": "code",
   "execution_count": 63,
   "id": "bfff1f8f",
   "metadata": {},
   "outputs": [
    {
     "data": {
      "text/plain": [
       "DataFrame[independent_variables: string, value: string, y: string, frequency: bigint]"
      ]
     },
     "execution_count": 63,
     "metadata": {},
     "output_type": "execute_result"
    }
   ],
   "source": [
    "train_frequencyCount"
   ]
  },
  {
   "cell_type": "code",
   "execution_count": 64,
   "id": "019fce10",
   "metadata": {},
   "outputs": [
    {
     "name": "stderr",
     "output_type": "stream",
     "text": [
      "                                                                                \r"
     ]
    },
    {
     "data": {
      "text/plain": [
       "['0', '1']"
      ]
     },
     "execution_count": 64,
     "metadata": {},
     "output_type": "execute_result"
    }
   ],
   "source": [
    "# classifcation=data.select('y').distinct().rdd.map(lambda x:x[0]).collect()\n",
    "# classfication\n",
    "classfications = dataTrain.select('y').distinct().rdd.map(lambda x: x[0]).collect()\n",
    "_classfications = sc.broadcast(classfications)\n",
    "_classfications.value"
   ]
  },
  {
   "cell_type": "code",
   "execution_count": 65,
   "id": "f77f9cb4",
   "metadata": {},
   "outputs": [
    {
     "data": {
      "text/plain": [
       "['Gender',\n",
       " 'Customer_Type',\n",
       " 'Age',\n",
       " 'Type_of_Travel',\n",
       " 'Class',\n",
       " 'Flight_Distance',\n",
       " 'Inflight_wifi_service',\n",
       " 'Departure/Arrival_time_convenient',\n",
       " 'Gate_location',\n",
       " 'Food_and_drink',\n",
       " 'Online_boarding',\n",
       " 'Seat_comfort',\n",
       " 'Inflight_entertainment',\n",
       " 'On-board_service',\n",
       " 'Leg_room_service',\n",
       " 'Baggage_handling',\n",
       " 'Checkin_service',\n",
       " 'Inflight_service',\n",
       " 'Cleanliness',\n",
       " 'Arrival_Delay_in_Minutes',\n",
       " 'y']"
      ]
     },
     "execution_count": 65,
     "metadata": {},
     "output_type": "execute_result"
    }
   ],
   "source": [
    "_featureColumns=sc.broadcast(dataTrain.columns)\n",
    "_featureColumns.value"
   ]
  },
  {
   "cell_type": "code",
   "execution_count": 66,
   "id": "e577e3c5",
   "metadata": {},
   "outputs": [
    {
     "name": "stderr",
     "output_type": "stream",
     "text": [
      "                                                                                \r"
     ]
    },
    {
     "data": {
      "text/plain": [
       "Gender                               2\n",
       "Customer_Type                        2\n",
       "Age                                  9\n",
       "Type_of_Travel                       2\n",
       "Class                                3\n",
       "Flight_Distance                      8\n",
       "Inflight_wifi_service                6\n",
       "Departure/Arrival_time_convenient    6\n",
       "Gate_location                        5\n",
       "Food_and_drink                       6\n",
       "Online_boarding                      6\n",
       "Seat_comfort                         5\n",
       "Inflight_entertainment               5\n",
       "On-board_service                     5\n",
       "Leg_room_service                     6\n",
       "Baggage_handling                     5\n",
       "Checkin_service                      5\n",
       "Inflight_service                     5\n",
       "Cleanliness                          5\n",
       "Arrival_Delay_in_Minutes             2\n",
       "y                                    2\n",
       "Name: 0, dtype: int64"
      ]
     },
     "execution_count": 66,
     "metadata": {},
     "output_type": "execute_result"
    }
   ],
   "source": [
    "#dem cac phan lop cua nhan va cac gia tri roi rac cua tung thuoc tinh\n",
    "sporadicValues = dataTrain.agg(*(countDistinct(col(c)).alias(c) for c in dataTrain.columns))\n",
    "sporadicValues = pd.DataFrame(sporadicValues.collect(), columns=dataTrain.columns).squeeze()\n",
    "_sporadicValues = sc.broadcast(sporadicValues)\n",
    "_sporadicValues.value\n",
    "# sporadicValues\n",
    "# dataTrain.agg(*(countDistinct(col(c)).alias(c) for c in dataTrain.columns))"
   ]
  },
  {
   "cell_type": "code",
   "execution_count": 67,
   "id": "0c83eb9a",
   "metadata": {},
   "outputs": [
    {
     "name": "stderr",
     "output_type": "stream",
     "text": [
      "                                                                                \r"
     ]
    },
    {
     "data": {
      "text/plain": [
       "16560"
      ]
     },
     "execution_count": 67,
     "metadata": {},
     "output_type": "execute_result"
    }
   ],
   "source": [
    "n_df = sqlContext.sql(\"SELECT SUM(frequency) as n FROM TrainFrequency\")\n",
    "n = n_df.collect()[0]['n']\n",
    "_n = sc.broadcast(n)\n",
    "_n.value"
   ]
  },
  {
   "cell_type": "code",
   "execution_count": 68,
   "id": "9b1506ae",
   "metadata": {},
   "outputs": [],
   "source": [
    "def classfication(row):\n",
    "    p_results = []\n",
    "    # so luong phan tu thuoc phan lop 0 va 1\n",
    "    for classfication in _classfications.value:\n",
    "        n_classfication= train_frequencyCount.select(\"frequency\").where(train_frequencyCount.y==classfication).groupBy().sum().collect()[0][0];\n",
    "        frequencies = []\n",
    "        for i in range(0,len(row)-1):\n",
    "            n_i = train_frequencyCount.select(\"frequency\").where((train_frequencyCount.independent_variables==_featureColumns.value[i])&(train_frequencyCount.value==row[i])&(train_frequencyCount.y==classfication)).groupBy().sum().collect()[0][0]\n",
    "            frequencies.append([n_i, _featureColumns.value[i]])\n",
    "        p_classfication = float(n_classfication)/float(_n.value)\n",
    "        for frequency in frequencies:\n",
    "            if(frequency[0] !=0):\n",
    "                p_classfication *=float(frequency[0])/float(n_classfication + _sporadicValues.value[frequency[1]])\n",
    "            else:\n",
    "                p_classfication *=float(frequency[0]+1)/float(n_classfication + _sporadicValues.value[frequency[1]])\n",
    "        p_results.append(p_classfication)\n",
    "    index = p_results.index(max(p_results))\n",
    "    return _classfications.value[index]\n",
    "# def classfication(row):\n",
    "#     p_results = []\n",
    "    \n",
    "#     for classfication in _classfications.value:\n",
    "\n",
    "#         n_classfication = _train_frequency_pd.value.loc[_train_frequency_pd.value['y'] == classfication, 'frequency'].sum()\n",
    "#         frequencies = []\n",
    "#         for i in range(0, len(row)-1):\n",
    "#             n_i = train_frequency_pd.loc[\n",
    "#                         (train_frequency_pd['independent_variables'] == _featureColumns.value[i]) &\n",
    "#                         (train_frequency_pd['value'] == row[i]) & \n",
    "#                         (train_frequency_pd['y'] == classfication),\n",
    "#                         'frequency'\n",
    "#                     ].sum();\n",
    "\n",
    "#             frequencies.append([n_i, _featureColumns.value[i]])\n",
    "#         p_classfication = float(n_classfication) / float(_n.value)\n",
    "#         for frequency in frequencies:\n",
    "#             if(frequency[0] != 0):\n",
    "#                 p_classfication *= float(frequency[0])/float(n_classfication + _sporadicValues.value[frequency[1]])\n",
    "#             else:\n",
    "#                 p_classfication *= float(frequency[0]+1)/float(n_classfication + _sporadicValues.value[frequency[1]])\n",
    "#         p_results.append(p_classfication)\n",
    "#     index = p_results.index(max(p_results))\n",
    "#     return _classfications.value[index]"
   ]
  },
  {
   "cell_type": "code",
   "execution_count": null,
   "id": "e4e390b1",
   "metadata": {},
   "outputs": [],
   "source": []
  },
  {
   "cell_type": "code",
   "execution_count": 69,
   "id": "713d52e1",
   "metadata": {},
   "outputs": [
    {
     "name": "stderr",
     "output_type": "stream",
     "text": [
      "Traceback (most recent call last):\n",
      "  File \"/home/huan/spark-3.1.2-bin-hadoop3.2/python/pyspark/serializers.py\", line 437, in dumps\n",
      "    return cloudpickle.dumps(obj, pickle_protocol)\n",
      "  File \"/home/huan/spark-3.1.2-bin-hadoop3.2/python/pyspark/cloudpickle/cloudpickle_fast.py\", line 72, in dumps\n",
      "    cp.dump(obj)\n",
      "  File \"/home/huan/spark-3.1.2-bin-hadoop3.2/python/pyspark/cloudpickle/cloudpickle_fast.py\", line 540, in dump\n",
      "    return Pickler.dump(self, obj)\n",
      "TypeError: cannot pickle '_thread.RLock' object\n"
     ]
    },
    {
     "ename": "PicklingError",
     "evalue": "Could not serialize object: TypeError: cannot pickle '_thread.RLock' object",
     "output_type": "error",
     "traceback": [
      "\u001b[0;31m---------------------------------------------------------------------------\u001b[0m",
      "\u001b[0;31mTypeError\u001b[0m                                 Traceback (most recent call last)",
      "\u001b[0;32m~/spark-3.1.2-bin-hadoop3.2/python/pyspark/serializers.py\u001b[0m in \u001b[0;36mdumps\u001b[0;34m(self, obj)\u001b[0m\n\u001b[1;32m    436\u001b[0m         \u001b[0;32mtry\u001b[0m\u001b[0;34m:\u001b[0m\u001b[0;34m\u001b[0m\u001b[0;34m\u001b[0m\u001b[0m\n\u001b[0;32m--> 437\u001b[0;31m             \u001b[0;32mreturn\u001b[0m \u001b[0mcloudpickle\u001b[0m\u001b[0;34m.\u001b[0m\u001b[0mdumps\u001b[0m\u001b[0;34m(\u001b[0m\u001b[0mobj\u001b[0m\u001b[0;34m,\u001b[0m \u001b[0mpickle_protocol\u001b[0m\u001b[0;34m)\u001b[0m\u001b[0;34m\u001b[0m\u001b[0;34m\u001b[0m\u001b[0m\n\u001b[0m\u001b[1;32m    438\u001b[0m         \u001b[0;32mexcept\u001b[0m \u001b[0mpickle\u001b[0m\u001b[0;34m.\u001b[0m\u001b[0mPickleError\u001b[0m\u001b[0;34m:\u001b[0m\u001b[0;34m\u001b[0m\u001b[0;34m\u001b[0m\u001b[0m\n",
      "\u001b[0;32m~/spark-3.1.2-bin-hadoop3.2/python/pyspark/cloudpickle/cloudpickle_fast.py\u001b[0m in \u001b[0;36mdumps\u001b[0;34m(obj, protocol, buffer_callback)\u001b[0m\n\u001b[1;32m     71\u001b[0m             )\n\u001b[0;32m---> 72\u001b[0;31m             \u001b[0mcp\u001b[0m\u001b[0;34m.\u001b[0m\u001b[0mdump\u001b[0m\u001b[0;34m(\u001b[0m\u001b[0mobj\u001b[0m\u001b[0;34m)\u001b[0m\u001b[0;34m\u001b[0m\u001b[0;34m\u001b[0m\u001b[0m\n\u001b[0m\u001b[1;32m     73\u001b[0m             \u001b[0;32mreturn\u001b[0m \u001b[0mfile\u001b[0m\u001b[0;34m.\u001b[0m\u001b[0mgetvalue\u001b[0m\u001b[0;34m(\u001b[0m\u001b[0;34m)\u001b[0m\u001b[0;34m\u001b[0m\u001b[0;34m\u001b[0m\u001b[0m\n",
      "\u001b[0;32m~/spark-3.1.2-bin-hadoop3.2/python/pyspark/cloudpickle/cloudpickle_fast.py\u001b[0m in \u001b[0;36mdump\u001b[0;34m(self, obj)\u001b[0m\n\u001b[1;32m    539\u001b[0m         \u001b[0;32mtry\u001b[0m\u001b[0;34m:\u001b[0m\u001b[0;34m\u001b[0m\u001b[0;34m\u001b[0m\u001b[0m\n\u001b[0;32m--> 540\u001b[0;31m             \u001b[0;32mreturn\u001b[0m \u001b[0mPickler\u001b[0m\u001b[0;34m.\u001b[0m\u001b[0mdump\u001b[0m\u001b[0;34m(\u001b[0m\u001b[0mself\u001b[0m\u001b[0;34m,\u001b[0m \u001b[0mobj\u001b[0m\u001b[0;34m)\u001b[0m\u001b[0;34m\u001b[0m\u001b[0;34m\u001b[0m\u001b[0m\n\u001b[0m\u001b[1;32m    541\u001b[0m         \u001b[0;32mexcept\u001b[0m \u001b[0mRuntimeError\u001b[0m \u001b[0;32mas\u001b[0m \u001b[0me\u001b[0m\u001b[0;34m:\u001b[0m\u001b[0;34m\u001b[0m\u001b[0;34m\u001b[0m\u001b[0m\n",
      "\u001b[0;31mTypeError\u001b[0m: cannot pickle '_thread.RLock' object",
      "\nDuring handling of the above exception, another exception occurred:\n",
      "\u001b[0;31mPicklingError\u001b[0m                             Traceback (most recent call last)",
      "\u001b[0;32m~/.local/lib/python3.8/site-packages/IPython/core/formatters.py\u001b[0m in \u001b[0;36m__call__\u001b[0;34m(self, obj)\u001b[0m\n\u001b[1;32m    700\u001b[0m                 \u001b[0mtype_pprinters\u001b[0m\u001b[0;34m=\u001b[0m\u001b[0mself\u001b[0m\u001b[0;34m.\u001b[0m\u001b[0mtype_printers\u001b[0m\u001b[0;34m,\u001b[0m\u001b[0;34m\u001b[0m\u001b[0;34m\u001b[0m\u001b[0m\n\u001b[1;32m    701\u001b[0m                 deferred_pprinters=self.deferred_printers)\n\u001b[0;32m--> 702\u001b[0;31m             \u001b[0mprinter\u001b[0m\u001b[0;34m.\u001b[0m\u001b[0mpretty\u001b[0m\u001b[0;34m(\u001b[0m\u001b[0mobj\u001b[0m\u001b[0;34m)\u001b[0m\u001b[0;34m\u001b[0m\u001b[0;34m\u001b[0m\u001b[0m\n\u001b[0m\u001b[1;32m    703\u001b[0m             \u001b[0mprinter\u001b[0m\u001b[0;34m.\u001b[0m\u001b[0mflush\u001b[0m\u001b[0;34m(\u001b[0m\u001b[0;34m)\u001b[0m\u001b[0;34m\u001b[0m\u001b[0;34m\u001b[0m\u001b[0m\n\u001b[1;32m    704\u001b[0m             \u001b[0;32mreturn\u001b[0m \u001b[0mstream\u001b[0m\u001b[0;34m.\u001b[0m\u001b[0mgetvalue\u001b[0m\u001b[0;34m(\u001b[0m\u001b[0;34m)\u001b[0m\u001b[0;34m\u001b[0m\u001b[0;34m\u001b[0m\u001b[0m\n",
      "\u001b[0;32m~/.local/lib/python3.8/site-packages/IPython/lib/pretty.py\u001b[0m in \u001b[0;36mpretty\u001b[0;34m(self, obj)\u001b[0m\n\u001b[1;32m    392\u001b[0m                         \u001b[0;32mif\u001b[0m \u001b[0mcls\u001b[0m \u001b[0;32mis\u001b[0m \u001b[0;32mnot\u001b[0m \u001b[0mobject\u001b[0m\u001b[0;31m \u001b[0m\u001b[0;31m\\\u001b[0m\u001b[0;34m\u001b[0m\u001b[0;34m\u001b[0m\u001b[0m\n\u001b[1;32m    393\u001b[0m                                 \u001b[0;32mand\u001b[0m \u001b[0mcallable\u001b[0m\u001b[0;34m(\u001b[0m\u001b[0mcls\u001b[0m\u001b[0;34m.\u001b[0m\u001b[0m__dict__\u001b[0m\u001b[0;34m.\u001b[0m\u001b[0mget\u001b[0m\u001b[0;34m(\u001b[0m\u001b[0;34m'__repr__'\u001b[0m\u001b[0;34m)\u001b[0m\u001b[0;34m)\u001b[0m\u001b[0;34m:\u001b[0m\u001b[0;34m\u001b[0m\u001b[0;34m\u001b[0m\u001b[0m\n\u001b[0;32m--> 394\u001b[0;31m                             \u001b[0;32mreturn\u001b[0m \u001b[0m_repr_pprint\u001b[0m\u001b[0;34m(\u001b[0m\u001b[0mobj\u001b[0m\u001b[0;34m,\u001b[0m \u001b[0mself\u001b[0m\u001b[0;34m,\u001b[0m \u001b[0mcycle\u001b[0m\u001b[0;34m)\u001b[0m\u001b[0;34m\u001b[0m\u001b[0;34m\u001b[0m\u001b[0m\n\u001b[0m\u001b[1;32m    395\u001b[0m \u001b[0;34m\u001b[0m\u001b[0m\n\u001b[1;32m    396\u001b[0m             \u001b[0;32mreturn\u001b[0m \u001b[0m_default_pprint\u001b[0m\u001b[0;34m(\u001b[0m\u001b[0mobj\u001b[0m\u001b[0;34m,\u001b[0m \u001b[0mself\u001b[0m\u001b[0;34m,\u001b[0m \u001b[0mcycle\u001b[0m\u001b[0;34m)\u001b[0m\u001b[0;34m\u001b[0m\u001b[0;34m\u001b[0m\u001b[0m\n",
      "\u001b[0;32m~/.local/lib/python3.8/site-packages/IPython/lib/pretty.py\u001b[0m in \u001b[0;36m_repr_pprint\u001b[0;34m(obj, p, cycle)\u001b[0m\n\u001b[1;32m    698\u001b[0m     \u001b[0;34m\"\"\"A pprint that just redirects to the normal repr function.\"\"\"\u001b[0m\u001b[0;34m\u001b[0m\u001b[0;34m\u001b[0m\u001b[0m\n\u001b[1;32m    699\u001b[0m     \u001b[0;31m# Find newlines and replace them with p.break_()\u001b[0m\u001b[0;34m\u001b[0m\u001b[0;34m\u001b[0m\u001b[0;34m\u001b[0m\u001b[0m\n\u001b[0;32m--> 700\u001b[0;31m     \u001b[0moutput\u001b[0m \u001b[0;34m=\u001b[0m \u001b[0mrepr\u001b[0m\u001b[0;34m(\u001b[0m\u001b[0mobj\u001b[0m\u001b[0;34m)\u001b[0m\u001b[0;34m\u001b[0m\u001b[0;34m\u001b[0m\u001b[0m\n\u001b[0m\u001b[1;32m    701\u001b[0m     \u001b[0mlines\u001b[0m \u001b[0;34m=\u001b[0m \u001b[0moutput\u001b[0m\u001b[0;34m.\u001b[0m\u001b[0msplitlines\u001b[0m\u001b[0;34m(\u001b[0m\u001b[0;34m)\u001b[0m\u001b[0;34m\u001b[0m\u001b[0;34m\u001b[0m\u001b[0m\n\u001b[1;32m    702\u001b[0m     \u001b[0;32mwith\u001b[0m \u001b[0mp\u001b[0m\u001b[0;34m.\u001b[0m\u001b[0mgroup\u001b[0m\u001b[0;34m(\u001b[0m\u001b[0;34m)\u001b[0m\u001b[0;34m:\u001b[0m\u001b[0;34m\u001b[0m\u001b[0;34m\u001b[0m\u001b[0m\n",
      "\u001b[0;32m~/spark-3.1.2-bin-hadoop3.2/python/pyspark/rdd.py\u001b[0m in \u001b[0;36m__repr__\u001b[0;34m(self)\u001b[0m\n\u001b[1;32m    257\u001b[0m \u001b[0;34m\u001b[0m\u001b[0m\n\u001b[1;32m    258\u001b[0m     \u001b[0;32mdef\u001b[0m \u001b[0m__repr__\u001b[0m\u001b[0;34m(\u001b[0m\u001b[0mself\u001b[0m\u001b[0;34m)\u001b[0m\u001b[0;34m:\u001b[0m\u001b[0;34m\u001b[0m\u001b[0;34m\u001b[0m\u001b[0m\n\u001b[0;32m--> 259\u001b[0;31m         \u001b[0;32mreturn\u001b[0m \u001b[0mself\u001b[0m\u001b[0;34m.\u001b[0m\u001b[0m_jrdd\u001b[0m\u001b[0;34m.\u001b[0m\u001b[0mtoString\u001b[0m\u001b[0;34m(\u001b[0m\u001b[0;34m)\u001b[0m\u001b[0;34m\u001b[0m\u001b[0;34m\u001b[0m\u001b[0m\n\u001b[0m\u001b[1;32m    260\u001b[0m \u001b[0;34m\u001b[0m\u001b[0m\n\u001b[1;32m    261\u001b[0m     \u001b[0;32mdef\u001b[0m \u001b[0m__getnewargs__\u001b[0m\u001b[0;34m(\u001b[0m\u001b[0mself\u001b[0m\u001b[0;34m)\u001b[0m\u001b[0;34m:\u001b[0m\u001b[0;34m\u001b[0m\u001b[0;34m\u001b[0m\u001b[0m\n",
      "\u001b[0;32m~/spark-3.1.2-bin-hadoop3.2/python/pyspark/rdd.py\u001b[0m in \u001b[0;36m_jrdd\u001b[0;34m(self)\u001b[0m\n\u001b[1;32m   2947\u001b[0m             \u001b[0mprofiler\u001b[0m \u001b[0;34m=\u001b[0m \u001b[0;32mNone\u001b[0m\u001b[0;34m\u001b[0m\u001b[0;34m\u001b[0m\u001b[0m\n\u001b[1;32m   2948\u001b[0m \u001b[0;34m\u001b[0m\u001b[0m\n\u001b[0;32m-> 2949\u001b[0;31m         wrapped_func = _wrap_function(self.ctx, self.func, self._prev_jrdd_deserializer,\n\u001b[0m\u001b[1;32m   2950\u001b[0m                                       self._jrdd_deserializer, profiler)\n\u001b[1;32m   2951\u001b[0m         python_rdd = self.ctx._jvm.PythonRDD(self._prev_jrdd.rdd(), wrapped_func,\n",
      "\u001b[0;32m~/spark-3.1.2-bin-hadoop3.2/python/pyspark/rdd.py\u001b[0m in \u001b[0;36m_wrap_function\u001b[0;34m(sc, func, deserializer, serializer, profiler)\u001b[0m\n\u001b[1;32m   2826\u001b[0m     \u001b[0;32massert\u001b[0m \u001b[0mserializer\u001b[0m\u001b[0;34m,\u001b[0m \u001b[0;34m\"serializer should not be empty\"\u001b[0m\u001b[0;34m\u001b[0m\u001b[0;34m\u001b[0m\u001b[0m\n\u001b[1;32m   2827\u001b[0m     \u001b[0mcommand\u001b[0m \u001b[0;34m=\u001b[0m \u001b[0;34m(\u001b[0m\u001b[0mfunc\u001b[0m\u001b[0;34m,\u001b[0m \u001b[0mprofiler\u001b[0m\u001b[0;34m,\u001b[0m \u001b[0mdeserializer\u001b[0m\u001b[0;34m,\u001b[0m \u001b[0mserializer\u001b[0m\u001b[0;34m)\u001b[0m\u001b[0;34m\u001b[0m\u001b[0;34m\u001b[0m\u001b[0m\n\u001b[0;32m-> 2828\u001b[0;31m     \u001b[0mpickled_command\u001b[0m\u001b[0;34m,\u001b[0m \u001b[0mbroadcast_vars\u001b[0m\u001b[0;34m,\u001b[0m \u001b[0menv\u001b[0m\u001b[0;34m,\u001b[0m \u001b[0mincludes\u001b[0m \u001b[0;34m=\u001b[0m \u001b[0m_prepare_for_python_RDD\u001b[0m\u001b[0;34m(\u001b[0m\u001b[0msc\u001b[0m\u001b[0;34m,\u001b[0m \u001b[0mcommand\u001b[0m\u001b[0;34m)\u001b[0m\u001b[0;34m\u001b[0m\u001b[0;34m\u001b[0m\u001b[0m\n\u001b[0m\u001b[1;32m   2829\u001b[0m     return sc._jvm.PythonFunction(bytearray(pickled_command), env, includes, sc.pythonExec,\n\u001b[1;32m   2830\u001b[0m                                   sc.pythonVer, broadcast_vars, sc._javaAccumulator)\n",
      "\u001b[0;32m~/spark-3.1.2-bin-hadoop3.2/python/pyspark/rdd.py\u001b[0m in \u001b[0;36m_prepare_for_python_RDD\u001b[0;34m(sc, command)\u001b[0m\n\u001b[1;32m   2812\u001b[0m     \u001b[0;31m# the serialized command will be compressed by broadcast\u001b[0m\u001b[0;34m\u001b[0m\u001b[0;34m\u001b[0m\u001b[0;34m\u001b[0m\u001b[0m\n\u001b[1;32m   2813\u001b[0m     \u001b[0mser\u001b[0m \u001b[0;34m=\u001b[0m \u001b[0mCloudPickleSerializer\u001b[0m\u001b[0;34m(\u001b[0m\u001b[0;34m)\u001b[0m\u001b[0;34m\u001b[0m\u001b[0;34m\u001b[0m\u001b[0m\n\u001b[0;32m-> 2814\u001b[0;31m     \u001b[0mpickled_command\u001b[0m \u001b[0;34m=\u001b[0m \u001b[0mser\u001b[0m\u001b[0;34m.\u001b[0m\u001b[0mdumps\u001b[0m\u001b[0;34m(\u001b[0m\u001b[0mcommand\u001b[0m\u001b[0;34m)\u001b[0m\u001b[0;34m\u001b[0m\u001b[0;34m\u001b[0m\u001b[0m\n\u001b[0m\u001b[1;32m   2815\u001b[0m     \u001b[0;32mif\u001b[0m \u001b[0mlen\u001b[0m\u001b[0;34m(\u001b[0m\u001b[0mpickled_command\u001b[0m\u001b[0;34m)\u001b[0m \u001b[0;34m>\u001b[0m \u001b[0msc\u001b[0m\u001b[0;34m.\u001b[0m\u001b[0m_jvm\u001b[0m\u001b[0;34m.\u001b[0m\u001b[0mPythonUtils\u001b[0m\u001b[0;34m.\u001b[0m\u001b[0mgetBroadcastThreshold\u001b[0m\u001b[0;34m(\u001b[0m\u001b[0msc\u001b[0m\u001b[0;34m.\u001b[0m\u001b[0m_jsc\u001b[0m\u001b[0;34m)\u001b[0m\u001b[0;34m:\u001b[0m  \u001b[0;31m# Default 1M\u001b[0m\u001b[0;34m\u001b[0m\u001b[0;34m\u001b[0m\u001b[0m\n\u001b[1;32m   2816\u001b[0m         \u001b[0;31m# The broadcast will have same life cycle as created PythonRDD\u001b[0m\u001b[0;34m\u001b[0m\u001b[0;34m\u001b[0m\u001b[0;34m\u001b[0m\u001b[0m\n",
      "\u001b[0;32m~/spark-3.1.2-bin-hadoop3.2/python/pyspark/serializers.py\u001b[0m in \u001b[0;36mdumps\u001b[0;34m(self, obj)\u001b[0m\n\u001b[1;32m    445\u001b[0m                 \u001b[0mmsg\u001b[0m \u001b[0;34m=\u001b[0m \u001b[0;34m\"Could not serialize object: %s: %s\"\u001b[0m \u001b[0;34m%\u001b[0m \u001b[0;34m(\u001b[0m\u001b[0me\u001b[0m\u001b[0;34m.\u001b[0m\u001b[0m__class__\u001b[0m\u001b[0;34m.\u001b[0m\u001b[0m__name__\u001b[0m\u001b[0;34m,\u001b[0m \u001b[0memsg\u001b[0m\u001b[0;34m)\u001b[0m\u001b[0;34m\u001b[0m\u001b[0;34m\u001b[0m\u001b[0m\n\u001b[1;32m    446\u001b[0m             \u001b[0mprint_exec\u001b[0m\u001b[0;34m(\u001b[0m\u001b[0msys\u001b[0m\u001b[0;34m.\u001b[0m\u001b[0mstderr\u001b[0m\u001b[0;34m)\u001b[0m\u001b[0;34m\u001b[0m\u001b[0;34m\u001b[0m\u001b[0m\n\u001b[0;32m--> 447\u001b[0;31m             \u001b[0;32mraise\u001b[0m \u001b[0mpickle\u001b[0m\u001b[0;34m.\u001b[0m\u001b[0mPicklingError\u001b[0m\u001b[0;34m(\u001b[0m\u001b[0mmsg\u001b[0m\u001b[0;34m)\u001b[0m\u001b[0;34m\u001b[0m\u001b[0;34m\u001b[0m\u001b[0m\n\u001b[0m\u001b[1;32m    448\u001b[0m \u001b[0;34m\u001b[0m\u001b[0m\n\u001b[1;32m    449\u001b[0m \u001b[0;34m\u001b[0m\u001b[0m\n",
      "\u001b[0;31mPicklingError\u001b[0m: Could not serialize object: TypeError: cannot pickle '_thread.RLock' object"
     ]
    }
   ],
   "source": [
    "results = dataTest.rdd.map(classfication)\n",
    "results"
   ]
  },
  {
   "cell_type": "code",
   "execution_count": 70,
   "id": "b67dff8e",
   "metadata": {},
   "outputs": [],
   "source": [
    "def evaluate(test, results):\n",
    "    n = len(results)\n",
    "    n_correct = 0\n",
    "    # chuyen sang pandas\n",
    "    test_pd = pd.DataFrame(test.collect(), columns = test.columns)\n",
    "    \n",
    "    for i in range(0, n-1):\n",
    "        if(results[i] == test_pd['y'][1]):\n",
    "            n_correct += 1\n",
    "    return float(n_correct)/float(n)"
   ]
  },
  {
   "cell_type": "code",
   "execution_count": 71,
   "id": "bcb80fbe",
   "metadata": {},
   "outputs": [
    {
     "name": "stderr",
     "output_type": "stream",
     "text": [
      "Traceback (most recent call last):\n",
      "  File \"/home/huan/spark-3.1.2-bin-hadoop3.2/python/pyspark/serializers.py\", line 437, in dumps\n",
      "    return cloudpickle.dumps(obj, pickle_protocol)\n",
      "  File \"/home/huan/spark-3.1.2-bin-hadoop3.2/python/pyspark/cloudpickle/cloudpickle_fast.py\", line 72, in dumps\n",
      "    cp.dump(obj)\n",
      "  File \"/home/huan/spark-3.1.2-bin-hadoop3.2/python/pyspark/cloudpickle/cloudpickle_fast.py\", line 540, in dump\n",
      "    return Pickler.dump(self, obj)\n",
      "TypeError: cannot pickle '_thread.RLock' object\n"
     ]
    },
    {
     "ename": "PicklingError",
     "evalue": "Could not serialize object: TypeError: cannot pickle '_thread.RLock' object",
     "output_type": "error",
     "traceback": [
      "\u001b[0;31m---------------------------------------------------------------------------\u001b[0m",
      "\u001b[0;31mTypeError\u001b[0m                                 Traceback (most recent call last)",
      "\u001b[0;32m~/spark-3.1.2-bin-hadoop3.2/python/pyspark/serializers.py\u001b[0m in \u001b[0;36mdumps\u001b[0;34m(self, obj)\u001b[0m\n\u001b[1;32m    436\u001b[0m         \u001b[0;32mtry\u001b[0m\u001b[0;34m:\u001b[0m\u001b[0;34m\u001b[0m\u001b[0;34m\u001b[0m\u001b[0m\n\u001b[0;32m--> 437\u001b[0;31m             \u001b[0;32mreturn\u001b[0m \u001b[0mcloudpickle\u001b[0m\u001b[0;34m.\u001b[0m\u001b[0mdumps\u001b[0m\u001b[0;34m(\u001b[0m\u001b[0mobj\u001b[0m\u001b[0;34m,\u001b[0m \u001b[0mpickle_protocol\u001b[0m\u001b[0;34m)\u001b[0m\u001b[0;34m\u001b[0m\u001b[0;34m\u001b[0m\u001b[0m\n\u001b[0m\u001b[1;32m    438\u001b[0m         \u001b[0;32mexcept\u001b[0m \u001b[0mpickle\u001b[0m\u001b[0;34m.\u001b[0m\u001b[0mPickleError\u001b[0m\u001b[0;34m:\u001b[0m\u001b[0;34m\u001b[0m\u001b[0;34m\u001b[0m\u001b[0m\n",
      "\u001b[0;32m~/spark-3.1.2-bin-hadoop3.2/python/pyspark/cloudpickle/cloudpickle_fast.py\u001b[0m in \u001b[0;36mdumps\u001b[0;34m(obj, protocol, buffer_callback)\u001b[0m\n\u001b[1;32m     71\u001b[0m             )\n\u001b[0;32m---> 72\u001b[0;31m             \u001b[0mcp\u001b[0m\u001b[0;34m.\u001b[0m\u001b[0mdump\u001b[0m\u001b[0;34m(\u001b[0m\u001b[0mobj\u001b[0m\u001b[0;34m)\u001b[0m\u001b[0;34m\u001b[0m\u001b[0;34m\u001b[0m\u001b[0m\n\u001b[0m\u001b[1;32m     73\u001b[0m             \u001b[0;32mreturn\u001b[0m \u001b[0mfile\u001b[0m\u001b[0;34m.\u001b[0m\u001b[0mgetvalue\u001b[0m\u001b[0;34m(\u001b[0m\u001b[0;34m)\u001b[0m\u001b[0;34m\u001b[0m\u001b[0;34m\u001b[0m\u001b[0m\n",
      "\u001b[0;32m~/spark-3.1.2-bin-hadoop3.2/python/pyspark/cloudpickle/cloudpickle_fast.py\u001b[0m in \u001b[0;36mdump\u001b[0;34m(self, obj)\u001b[0m\n\u001b[1;32m    539\u001b[0m         \u001b[0;32mtry\u001b[0m\u001b[0;34m:\u001b[0m\u001b[0;34m\u001b[0m\u001b[0;34m\u001b[0m\u001b[0m\n\u001b[0;32m--> 540\u001b[0;31m             \u001b[0;32mreturn\u001b[0m \u001b[0mPickler\u001b[0m\u001b[0;34m.\u001b[0m\u001b[0mdump\u001b[0m\u001b[0;34m(\u001b[0m\u001b[0mself\u001b[0m\u001b[0;34m,\u001b[0m \u001b[0mobj\u001b[0m\u001b[0;34m)\u001b[0m\u001b[0;34m\u001b[0m\u001b[0;34m\u001b[0m\u001b[0m\n\u001b[0m\u001b[1;32m    541\u001b[0m         \u001b[0;32mexcept\u001b[0m \u001b[0mRuntimeError\u001b[0m \u001b[0;32mas\u001b[0m \u001b[0me\u001b[0m\u001b[0;34m:\u001b[0m\u001b[0;34m\u001b[0m\u001b[0;34m\u001b[0m\u001b[0m\n",
      "\u001b[0;31mTypeError\u001b[0m: cannot pickle '_thread.RLock' object",
      "\nDuring handling of the above exception, another exception occurred:\n",
      "\u001b[0;31mPicklingError\u001b[0m                             Traceback (most recent call last)",
      "\u001b[0;32m/tmp/ipykernel_4252/3452765758.py\u001b[0m in \u001b[0;36m<module>\u001b[0;34m\u001b[0m\n\u001b[0;32m----> 1\u001b[0;31m \u001b[0mevaluate\u001b[0m\u001b[0;34m(\u001b[0m\u001b[0mdataTest\u001b[0m\u001b[0;34m,\u001b[0m \u001b[0mresults\u001b[0m\u001b[0;34m.\u001b[0m\u001b[0mcollect\u001b[0m\u001b[0;34m(\u001b[0m\u001b[0;34m)\u001b[0m\u001b[0;34m)\u001b[0m\u001b[0;34m\u001b[0m\u001b[0;34m\u001b[0m\u001b[0m\n\u001b[0m",
      "\u001b[0;32m~/spark-3.1.2-bin-hadoop3.2/python/pyspark/rdd.py\u001b[0m in \u001b[0;36mcollect\u001b[0;34m(self)\u001b[0m\n\u001b[1;32m    947\u001b[0m         \"\"\"\n\u001b[1;32m    948\u001b[0m         \u001b[0;32mwith\u001b[0m \u001b[0mSCCallSiteSync\u001b[0m\u001b[0;34m(\u001b[0m\u001b[0mself\u001b[0m\u001b[0;34m.\u001b[0m\u001b[0mcontext\u001b[0m\u001b[0;34m)\u001b[0m \u001b[0;32mas\u001b[0m \u001b[0mcss\u001b[0m\u001b[0;34m:\u001b[0m\u001b[0;34m\u001b[0m\u001b[0;34m\u001b[0m\u001b[0m\n\u001b[0;32m--> 949\u001b[0;31m             \u001b[0msock_info\u001b[0m \u001b[0;34m=\u001b[0m \u001b[0mself\u001b[0m\u001b[0;34m.\u001b[0m\u001b[0mctx\u001b[0m\u001b[0;34m.\u001b[0m\u001b[0m_jvm\u001b[0m\u001b[0;34m.\u001b[0m\u001b[0mPythonRDD\u001b[0m\u001b[0;34m.\u001b[0m\u001b[0mcollectAndServe\u001b[0m\u001b[0;34m(\u001b[0m\u001b[0mself\u001b[0m\u001b[0;34m.\u001b[0m\u001b[0m_jrdd\u001b[0m\u001b[0;34m.\u001b[0m\u001b[0mrdd\u001b[0m\u001b[0;34m(\u001b[0m\u001b[0;34m)\u001b[0m\u001b[0;34m)\u001b[0m\u001b[0;34m\u001b[0m\u001b[0;34m\u001b[0m\u001b[0m\n\u001b[0m\u001b[1;32m    950\u001b[0m         \u001b[0;32mreturn\u001b[0m \u001b[0mlist\u001b[0m\u001b[0;34m(\u001b[0m\u001b[0m_load_from_socket\u001b[0m\u001b[0;34m(\u001b[0m\u001b[0msock_info\u001b[0m\u001b[0;34m,\u001b[0m \u001b[0mself\u001b[0m\u001b[0;34m.\u001b[0m\u001b[0m_jrdd_deserializer\u001b[0m\u001b[0;34m)\u001b[0m\u001b[0;34m)\u001b[0m\u001b[0;34m\u001b[0m\u001b[0;34m\u001b[0m\u001b[0m\n\u001b[1;32m    951\u001b[0m \u001b[0;34m\u001b[0m\u001b[0m\n",
      "\u001b[0;32m~/spark-3.1.2-bin-hadoop3.2/python/pyspark/rdd.py\u001b[0m in \u001b[0;36m_jrdd\u001b[0;34m(self)\u001b[0m\n\u001b[1;32m   2947\u001b[0m             \u001b[0mprofiler\u001b[0m \u001b[0;34m=\u001b[0m \u001b[0;32mNone\u001b[0m\u001b[0;34m\u001b[0m\u001b[0;34m\u001b[0m\u001b[0m\n\u001b[1;32m   2948\u001b[0m \u001b[0;34m\u001b[0m\u001b[0m\n\u001b[0;32m-> 2949\u001b[0;31m         wrapped_func = _wrap_function(self.ctx, self.func, self._prev_jrdd_deserializer,\n\u001b[0m\u001b[1;32m   2950\u001b[0m                                       self._jrdd_deserializer, profiler)\n\u001b[1;32m   2951\u001b[0m         python_rdd = self.ctx._jvm.PythonRDD(self._prev_jrdd.rdd(), wrapped_func,\n",
      "\u001b[0;32m~/spark-3.1.2-bin-hadoop3.2/python/pyspark/rdd.py\u001b[0m in \u001b[0;36m_wrap_function\u001b[0;34m(sc, func, deserializer, serializer, profiler)\u001b[0m\n\u001b[1;32m   2826\u001b[0m     \u001b[0;32massert\u001b[0m \u001b[0mserializer\u001b[0m\u001b[0;34m,\u001b[0m \u001b[0;34m\"serializer should not be empty\"\u001b[0m\u001b[0;34m\u001b[0m\u001b[0;34m\u001b[0m\u001b[0m\n\u001b[1;32m   2827\u001b[0m     \u001b[0mcommand\u001b[0m \u001b[0;34m=\u001b[0m \u001b[0;34m(\u001b[0m\u001b[0mfunc\u001b[0m\u001b[0;34m,\u001b[0m \u001b[0mprofiler\u001b[0m\u001b[0;34m,\u001b[0m \u001b[0mdeserializer\u001b[0m\u001b[0;34m,\u001b[0m \u001b[0mserializer\u001b[0m\u001b[0;34m)\u001b[0m\u001b[0;34m\u001b[0m\u001b[0;34m\u001b[0m\u001b[0m\n\u001b[0;32m-> 2828\u001b[0;31m     \u001b[0mpickled_command\u001b[0m\u001b[0;34m,\u001b[0m \u001b[0mbroadcast_vars\u001b[0m\u001b[0;34m,\u001b[0m \u001b[0menv\u001b[0m\u001b[0;34m,\u001b[0m \u001b[0mincludes\u001b[0m \u001b[0;34m=\u001b[0m \u001b[0m_prepare_for_python_RDD\u001b[0m\u001b[0;34m(\u001b[0m\u001b[0msc\u001b[0m\u001b[0;34m,\u001b[0m \u001b[0mcommand\u001b[0m\u001b[0;34m)\u001b[0m\u001b[0;34m\u001b[0m\u001b[0;34m\u001b[0m\u001b[0m\n\u001b[0m\u001b[1;32m   2829\u001b[0m     return sc._jvm.PythonFunction(bytearray(pickled_command), env, includes, sc.pythonExec,\n\u001b[1;32m   2830\u001b[0m                                   sc.pythonVer, broadcast_vars, sc._javaAccumulator)\n",
      "\u001b[0;32m~/spark-3.1.2-bin-hadoop3.2/python/pyspark/rdd.py\u001b[0m in \u001b[0;36m_prepare_for_python_RDD\u001b[0;34m(sc, command)\u001b[0m\n\u001b[1;32m   2812\u001b[0m     \u001b[0;31m# the serialized command will be compressed by broadcast\u001b[0m\u001b[0;34m\u001b[0m\u001b[0;34m\u001b[0m\u001b[0;34m\u001b[0m\u001b[0m\n\u001b[1;32m   2813\u001b[0m     \u001b[0mser\u001b[0m \u001b[0;34m=\u001b[0m \u001b[0mCloudPickleSerializer\u001b[0m\u001b[0;34m(\u001b[0m\u001b[0;34m)\u001b[0m\u001b[0;34m\u001b[0m\u001b[0;34m\u001b[0m\u001b[0m\n\u001b[0;32m-> 2814\u001b[0;31m     \u001b[0mpickled_command\u001b[0m \u001b[0;34m=\u001b[0m \u001b[0mser\u001b[0m\u001b[0;34m.\u001b[0m\u001b[0mdumps\u001b[0m\u001b[0;34m(\u001b[0m\u001b[0mcommand\u001b[0m\u001b[0;34m)\u001b[0m\u001b[0;34m\u001b[0m\u001b[0;34m\u001b[0m\u001b[0m\n\u001b[0m\u001b[1;32m   2815\u001b[0m     \u001b[0;32mif\u001b[0m \u001b[0mlen\u001b[0m\u001b[0;34m(\u001b[0m\u001b[0mpickled_command\u001b[0m\u001b[0;34m)\u001b[0m \u001b[0;34m>\u001b[0m \u001b[0msc\u001b[0m\u001b[0;34m.\u001b[0m\u001b[0m_jvm\u001b[0m\u001b[0;34m.\u001b[0m\u001b[0mPythonUtils\u001b[0m\u001b[0;34m.\u001b[0m\u001b[0mgetBroadcastThreshold\u001b[0m\u001b[0;34m(\u001b[0m\u001b[0msc\u001b[0m\u001b[0;34m.\u001b[0m\u001b[0m_jsc\u001b[0m\u001b[0;34m)\u001b[0m\u001b[0;34m:\u001b[0m  \u001b[0;31m# Default 1M\u001b[0m\u001b[0;34m\u001b[0m\u001b[0;34m\u001b[0m\u001b[0m\n\u001b[1;32m   2816\u001b[0m         \u001b[0;31m# The broadcast will have same life cycle as created PythonRDD\u001b[0m\u001b[0;34m\u001b[0m\u001b[0;34m\u001b[0m\u001b[0;34m\u001b[0m\u001b[0m\n",
      "\u001b[0;32m~/spark-3.1.2-bin-hadoop3.2/python/pyspark/serializers.py\u001b[0m in \u001b[0;36mdumps\u001b[0;34m(self, obj)\u001b[0m\n\u001b[1;32m    445\u001b[0m                 \u001b[0mmsg\u001b[0m \u001b[0;34m=\u001b[0m \u001b[0;34m\"Could not serialize object: %s: %s\"\u001b[0m \u001b[0;34m%\u001b[0m \u001b[0;34m(\u001b[0m\u001b[0me\u001b[0m\u001b[0;34m.\u001b[0m\u001b[0m__class__\u001b[0m\u001b[0;34m.\u001b[0m\u001b[0m__name__\u001b[0m\u001b[0;34m,\u001b[0m \u001b[0memsg\u001b[0m\u001b[0;34m)\u001b[0m\u001b[0;34m\u001b[0m\u001b[0;34m\u001b[0m\u001b[0m\n\u001b[1;32m    446\u001b[0m             \u001b[0mprint_exec\u001b[0m\u001b[0;34m(\u001b[0m\u001b[0msys\u001b[0m\u001b[0;34m.\u001b[0m\u001b[0mstderr\u001b[0m\u001b[0;34m)\u001b[0m\u001b[0;34m\u001b[0m\u001b[0;34m\u001b[0m\u001b[0m\n\u001b[0;32m--> 447\u001b[0;31m             \u001b[0;32mraise\u001b[0m \u001b[0mpickle\u001b[0m\u001b[0;34m.\u001b[0m\u001b[0mPicklingError\u001b[0m\u001b[0;34m(\u001b[0m\u001b[0mmsg\u001b[0m\u001b[0;34m)\u001b[0m\u001b[0;34m\u001b[0m\u001b[0;34m\u001b[0m\u001b[0m\n\u001b[0m\u001b[1;32m    448\u001b[0m \u001b[0;34m\u001b[0m\u001b[0m\n\u001b[1;32m    449\u001b[0m \u001b[0;34m\u001b[0m\u001b[0m\n",
      "\u001b[0;31mPicklingError\u001b[0m: Could not serialize object: TypeError: cannot pickle '_thread.RLock' object"
     ]
    }
   ],
   "source": [
    "evaluate(dataTest, results.collect())"
   ]
  },
  {
   "cell_type": "code",
   "execution_count": null,
   "id": "3b2d0f78",
   "metadata": {},
   "outputs": [],
   "source": [
    "len(results.collect())"
   ]
  },
  {
   "cell_type": "code",
   "execution_count": null,
   "id": "814ca42e",
   "metadata": {},
   "outputs": [],
   "source": [
    "dataTrain.groupBy(\"y\").count().show()"
   ]
  },
  {
   "cell_type": "code",
   "execution_count": null,
   "id": "2bff3aff",
   "metadata": {},
   "outputs": [],
   "source": [
    "train_frequencyCount.groupBy(\"y\").sum(\"frequency\").show()\n"
   ]
  },
  {
   "cell_type": "code",
   "execution_count": null,
   "id": "8a5bd89d",
   "metadata": {},
   "outputs": [],
   "source": [
    "train_frequencyCount.groupBy(\"independent_variables\",\"y\").sum(\"frequency\").show()\n"
   ]
  },
  {
   "cell_type": "code",
   "execution_count": null,
   "id": "2d62b5b2",
   "metadata": {},
   "outputs": [],
   "source": [
    "n_i =train_frequencyCount.select(\"frequency\").where(train_frequencyCount.independent_variables==_featureColumns.value[0]).groupBy().sum().collect()[0][0]"
   ]
  },
  {
   "cell_type": "code",
   "execution_count": null,
   "id": "8409c4cf",
   "metadata": {},
   "outputs": [],
   "source": [
    "n_i =train_frequencyCount.select(\"frequency\").where((train_frequencyCount.independent_variables==_featureColumns.value[0])&(train_frequencyCount.value==row[i])&(train_frequencyCount.y==classs)).groupBy().sum().collect()[0][0]"
   ]
  },
  {
   "cell_type": "code",
   "execution_count": null,
   "id": "f1cf9c6c",
   "metadata": {},
   "outputs": [],
   "source": [
    "n_i =train_frequencyCount.select(\"frequency\").where((train_frequencyCount.independent_variables==_featureColumns.value[0])).show()"
   ]
  }
 ],
 "metadata": {
  "kernelspec": {
   "display_name": "Python 3 (ipykernel)",
   "language": "python",
   "name": "python3"
  },
  "language_info": {
   "codemirror_mode": {
    "name": "ipython",
    "version": 3
   },
   "file_extension": ".py",
   "mimetype": "text/x-python",
   "name": "python",
   "nbconvert_exporter": "python",
   "pygments_lexer": "ipython3",
   "version": "3.8.10"
  }
 },
 "nbformat": 4,
 "nbformat_minor": 5
}
